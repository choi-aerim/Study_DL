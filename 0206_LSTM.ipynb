{
 "cells": [
  {
   "cell_type": "markdown",
   "id": "fc3e5d54",
   "metadata": {},
   "source": [
    "# LSTM"
   ]
  },
  {
   "cell_type": "markdown",
   "id": "7b3a1ed9",
   "metadata": {},
   "source": [
    "# 실습: IMDB 데이터를 직접 다운받아서 활용"
   ]
  },
  {
   "cell_type": "markdown",
   "id": "4a011d93",
   "metadata": {},
   "source": [
    "## 간단한 LSTM 모델 생성"
   ]
  },
  {
   "cell_type": "markdown",
   "id": "0a1d2803",
   "metadata": {},
   "source": [
    "### 데이터 불러오기"
   ]
  },
  {
   "cell_type": "code",
   "execution_count": 1,
   "id": "46ef0623",
   "metadata": {},
   "outputs": [],
   "source": [
    "import os\n",
    "import numpy as np"
   ]
  },
  {
   "cell_type": "code",
   "execution_count": 7,
   "id": "0e6910e3",
   "metadata": {},
   "outputs": [],
   "source": [
    "base_dir = '../필요데이터/Imdb'\n",
    "\n",
    "train_dir = os.path.join(base_dir, 'train')\n",
    "test_dir = os.path.join(base_dir, 'test')"
   ]
  },
  {
   "cell_type": "code",
   "execution_count": 8,
   "id": "991f9a14",
   "metadata": {},
   "outputs": [],
   "source": [
    "train_texts = []\n",
    "train_labels = []\n",
    "\n",
    "for label in ['neg', 'pos']:\n",
    "    text_dir = os.path.join(train_dir, label)\n",
    "    \n",
    "    for fname in os.listdir(text_dir):\n",
    "        f = open(os.path.join(text_dir, fname), encoding = 'utf8')\n",
    "        train_texts.append(f.read())\n",
    "        f.close()\n",
    "        \n",
    "        if label == 'neg':\n",
    "            train_labels.append(0)\n",
    "        else:\n",
    "            train_labels.append(1)"
   ]
  },
  {
   "cell_type": "code",
   "execution_count": 9,
   "id": "d841da9f",
   "metadata": {},
   "outputs": [
    {
     "data": {
      "text/plain": [
       "(25000, 25000)"
      ]
     },
     "execution_count": 9,
     "metadata": {},
     "output_type": "execute_result"
    }
   ],
   "source": [
    "len(train_texts), len(train_labels)"
   ]
  },
  {
   "cell_type": "code",
   "execution_count": 11,
   "id": "ba54a2f1",
   "metadata": {},
   "outputs": [],
   "source": [
    "test_texts = []\n",
    "test_labels = []\n",
    "\n",
    "for label in ['neg', 'pos']:\n",
    "    text_dir = os.path.join(test_dir, label)\n",
    "    \n",
    "    for fname in os.listdir(text_dir):\n",
    "        f = open(os.path.join(text_dir, fname), encoding = 'utf8')\n",
    "        test_texts.append(f.read())\n",
    "        f.close()\n",
    "        \n",
    "        if label == 'neg':\n",
    "            test_labels.append(0)\n",
    "        else:\n",
    "            test_labels.append(1)"
   ]
  },
  {
   "cell_type": "code",
   "execution_count": 12,
   "id": "af49f03a",
   "metadata": {},
   "outputs": [
    {
     "data": {
      "text/plain": [
       "(25000, 25000)"
      ]
     },
     "execution_count": 12,
     "metadata": {},
     "output_type": "execute_result"
    }
   ],
   "source": [
    "len(test_texts), len(test_labels)"
   ]
  },
  {
   "cell_type": "markdown",
   "id": "2adfb7b6",
   "metadata": {},
   "source": [
    "### 데이터 토큰화"
   ]
  },
  {
   "cell_type": "code",
   "execution_count": 14,
   "id": "cee3cc48",
   "metadata": {},
   "outputs": [],
   "source": [
    "from tensorflow.keras.preprocessing.text import Tokenizer"
   ]
  },
  {
   "cell_type": "code",
   "execution_count": 17,
   "id": "2544b66d",
   "metadata": {},
   "outputs": [],
   "source": [
    "tokenizer = Tokenizer(10000)\n",
    "\n",
    "tokenizer.fit_on_texts(train_texts)\n",
    "\n",
    "train_sequences = tokenizer.texts_to_sequences(train_texts)\n",
    "test_sequences = tokenizer.texts_to_sequences(test_texts)"
   ]
  },
  {
   "cell_type": "code",
   "execution_count": 20,
   "id": "2b20016c",
   "metadata": {},
   "outputs": [
    {
     "data": {
      "text/plain": [
       "(25000, 25000)"
      ]
     },
     "execution_count": 20,
     "metadata": {},
     "output_type": "execute_result"
    }
   ],
   "source": [
    "len(train_sequences), len(test_sequences)"
   ]
  },
  {
   "cell_type": "markdown",
   "id": "cb068c0c",
   "metadata": {},
   "source": [
    "### 데이터 패딩화"
   ]
  },
  {
   "cell_type": "code",
   "execution_count": 24,
   "id": "8eb78254",
   "metadata": {},
   "outputs": [],
   "source": [
    "from tensorflow.keras.preprocessing.sequence import pad_sequences"
   ]
  },
  {
   "cell_type": "code",
   "execution_count": 25,
   "id": "99217357",
   "metadata": {},
   "outputs": [],
   "source": [
    "train_sequences = pad_sequences(train_sequences, 500)\n",
    "test_sequences = pad_sequences(test_sequences, 500)"
   ]
  },
  {
   "cell_type": "code",
   "execution_count": 26,
   "id": "27141be3",
   "metadata": {},
   "outputs": [
    {
     "data": {
      "text/plain": [
       "((25000, 500), (25000, 500))"
      ]
     },
     "execution_count": 26,
     "metadata": {},
     "output_type": "execute_result"
    }
   ],
   "source": [
    "train_sequences.shape, test_sequences.shape"
   ]
  },
  {
   "cell_type": "markdown",
   "id": "67ddee91",
   "metadata": {},
   "source": [
    "### 학습/검증용 데이터 나누기"
   ]
  },
  {
   "cell_type": "code",
   "execution_count": null,
   "id": "d0084e4f",
   "metadata": {},
   "outputs": [],
   "source": [
    "import numpy as np"
   ]
  },
  {
   "cell_type": "code",
   "execution_count": 29,
   "id": "b43d42c8",
   "metadata": {},
   "outputs": [
    {
     "data": {
      "text/plain": [
       "((15000, 500), (10000, 500), (15000,), (10000,))"
      ]
     },
     "execution_count": 29,
     "metadata": {},
     "output_type": "execute_result"
    }
   ],
   "source": [
    "ind = np.arange(train_sequences.shape[0])\n",
    "np.random.shuffle(ind)\n",
    "\n",
    "train_labels = np.asarray(train_labels)\n",
    "\n",
    "x_train, x_val = train_sequences[:15000], train_sequences[15000:]\n",
    "y_train, y_val = train_labels[:15000], train_labels[15000:]\n",
    "\n",
    "x_train.shape, x_val.shape, y_train.shape, y_val.shape"
   ]
  },
  {
   "cell_type": "markdown",
   "id": "16e943fe",
   "metadata": {},
   "source": [
    "### 모델 생성"
   ]
  },
  {
   "cell_type": "code",
   "execution_count": 31,
   "id": "ea635795",
   "metadata": {},
   "outputs": [],
   "source": [
    "from keras.layers import LSTM, Embedding, Dense\n",
    "from keras.models import Sequential"
   ]
  },
  {
   "cell_type": "code",
   "execution_count": 32,
   "id": "21a834ee",
   "metadata": {},
   "outputs": [
    {
     "name": "stdout",
     "output_type": "stream",
     "text": [
      "Model: \"sequential\"\n",
      "_________________________________________________________________\n",
      "Layer (type)                 Output Shape              Param #   \n",
      "=================================================================\n",
      "embedding (Embedding)        (None, None, 32)          320000    \n",
      "_________________________________________________________________\n",
      "lstm (LSTM)                  (None, 32)                8320      \n",
      "_________________________________________________________________\n",
      "dense (Dense)                (None, 1)                 33        \n",
      "=================================================================\n",
      "Total params: 328,353\n",
      "Trainable params: 328,353\n",
      "Non-trainable params: 0\n",
      "_________________________________________________________________\n"
     ]
    }
   ],
   "source": [
    "model = Sequential()\n",
    "model.add(Embedding(10000, 32))\n",
    "model.add(LSTM(32))\n",
    "model.add(Dense(1, activation = 'sigmoid'))\n",
    "model.summary()"
   ]
  },
  {
   "cell_type": "code",
   "execution_count": 33,
   "id": "68d9c11c",
   "metadata": {},
   "outputs": [
    {
     "name": "stdout",
     "output_type": "stream",
     "text": [
      "Epoch 1/10\n",
      "118/118 [==============================] - 55s 469ms/step - loss: 0.4166 - acc: 0.8317 - val_loss: 1.3020 - val_acc: 0.0539\n",
      "Epoch 2/10\n",
      "118/118 [==============================] - 67s 571ms/step - loss: 0.2697 - acc: 0.8831 - val_loss: 0.8286 - val_acc: 0.5185\n",
      "Epoch 3/10\n",
      "118/118 [==============================] - 65s 553ms/step - loss: 0.2024 - acc: 0.9261 - val_loss: 1.1065 - val_acc: 0.5784\n",
      "Epoch 4/10\n",
      "118/118 [==============================] - 77s 652ms/step - loss: 0.1525 - acc: 0.9463 - val_loss: 0.6918 - val_acc: 0.8106\n",
      "Epoch 5/10\n",
      "118/118 [==============================] - 58s 495ms/step - loss: 0.1182 - acc: 0.9587 - val_loss: 0.9353 - val_acc: 0.7811\n",
      "Epoch 6/10\n",
      "118/118 [==============================] - 58s 494ms/step - loss: 0.0950 - acc: 0.9661 - val_loss: 2.2244 - val_acc: 0.4585\n",
      "Epoch 7/10\n",
      "118/118 [==============================] - 54s 457ms/step - loss: 0.0817 - acc: 0.9723 - val_loss: 1.6929 - val_acc: 0.6070\n",
      "Epoch 8/10\n",
      "118/118 [==============================] - 77s 656ms/step - loss: 0.0674 - acc: 0.9775 - val_loss: 2.8826 - val_acc: 0.3811\n",
      "Epoch 9/10\n",
      "118/118 [==============================] - 69s 588ms/step - loss: 0.0572 - acc: 0.9821 - val_loss: 1.9604 - val_acc: 0.5289\n",
      "Epoch 10/10\n",
      "118/118 [==============================] - 66s 559ms/step - loss: 0.0498 - acc: 0.9847 - val_loss: 1.8553 - val_acc: 0.5640\n"
     ]
    }
   ],
   "source": [
    "model.compile(optimizer = 'rmsprop',\n",
    "              loss = 'binary_crossentropy',\n",
    "              metrics = ['acc'])\n",
    "\n",
    "history = model.fit(x_train, y_train,\n",
    "                    epochs = 10,\n",
    "                    batch_size = 128,\n",
    "                    validation_data = (x_val, y_val))"
   ]
  },
  {
   "cell_type": "markdown",
   "id": "2f121a51",
   "metadata": {},
   "source": [
    "### 시각화"
   ]
  },
  {
   "cell_type": "code",
   "execution_count": 35,
   "id": "9797b3d0",
   "metadata": {},
   "outputs": [],
   "source": [
    "import matplotlib.pyplot as plt"
   ]
  },
  {
   "cell_type": "code",
   "execution_count": 36,
   "id": "5ff17de3",
   "metadata": {},
   "outputs": [
    {
     "data": {
      "image/png": "[encoded data removed]",
      "text/plain": [
       "<Figure size 1080x360 with 2 Axes>"
      ]
     },
     "metadata": {
      "needs_background": "light"
     },
     "output_type": "display_data"
    }
   ],
   "source": [
    "acc = history.history['acc']\n",
    "val_acc = history.history['val_acc']\n",
    "loss = history.history['loss']\n",
    "val_loss = history.history['val_loss']\n",
    "\n",
    "score = ['acc', 'loss']\n",
    "val_score = [f'val_{i}' for i in score]\n",
    "\n",
    "epochs = range(1, 11)\n",
    "\n",
    "plt.figure(figsize = (15, 5))\n",
    "for i in range(2):\n",
    "    plt.subplot(1, 2, i+1)\n",
    "    plt.plot(epochs, eval(score[i]), 'bo', label = score[i])\n",
    "    plt.plot(epochs, eval(val_score[i]), 'b', label = val_score[i])\n",
    "    plt.legend()\n",
    "plt.show()"
   ]
  },
  {
   "cell_type": "markdown",
   "id": "60c75c05",
   "metadata": {},
   "source": [
    "- 아주 엉망임\n",
    "- 정확도 80프로 가량으로 성능이 잘 올라가나 했더니, 바로 과대적합이 옴\n",
    "    - 이유는 LSTM은 시퀀스 모델인 만큼 전체적으로 길게 분석하는 것을 잘하기 때문에 감성분석 자체가 LSTM의 주분야가 아님.\n",
    "    - 또, 임베딩 차원이나 LSTM 출력 차원 같은 하이퍼파라미터 튜닝을 전혀 하지 않았기 때문에!!!!\n",
    "    이런 과대적합이 나타난 것 "
   ]
  }
 ],
 "metadata": {
  "kernelspec": {
   "display_name": "Python 3 (ipykernel)",
   "language": "python",
   "name": "python3"
  },
  "language_info": {
   "codemirror_mode": {
    "name": "ipython",
    "version": 3
   },
   "file_extension": ".py",
   "mimetype": "text/x-python",
   "name": "python",
   "nbconvert_exporter": "python",
   "pygments_lexer": "ipython3",
   "version": "3.8.13"
  },
  "toc": {
   "base_numbering": 1,
   "nav_menu": {},
   "number_sections": true,
   "sideBar": true,
   "skip_h1_title": false,
   "title_cell": "Table of Contents",
   "title_sidebar": "Contents",
   "toc_cell": false,
   "toc_position": {},
   "toc_section_display": true,
   "toc_window_display": true
  }
 },
 "nbformat": 4,
 "nbformat_minor": 5
}
