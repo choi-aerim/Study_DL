{
 "cells": [
  {
   "cell_type": "code",
   "execution_count": 1,
   "metadata": {
    "colab": {
     "base_uri": "https://localhost:8080/"
    },
    "executionInfo": {
     "elapsed": 30073,
     "status": "ok",
     "timestamp": 1675581505284,
     "user": {
      "displayName": "최애림",
      "userId": "12177073931316150776"
     },
     "user_tz": -540
    },
    "id": "Y2BGNOoGPjb6",
    "outputId": "717dd154-55b7-4a7c-811c-47a18144f7b4"
   },
   "outputs": [
    {
     "name": "stdout",
     "output_type": "stream",
     "text": [
      "Mounted at /content/drive\n"
     ]
    }
   ],
   "source": [
    "from google.colab import drive\n",
    "drive.mount('/content/drive')"
   ]
  },
  {
   "cell_type": "code",
   "execution_count": 2,
   "metadata": {
    "colab": {
     "base_uri": "https://localhost:8080/"
    },
    "executionInfo": {
     "elapsed": 13,
     "status": "ok",
     "timestamp": 1675581505285,
     "user": {
      "displayName": "최애림",
      "userId": "12177073931316150776"
     },
     "user_tz": -540
    },
    "id": "_RUjtuT5PrwC",
    "outputId": "d3bc2a00-91f7-45c4-c206-ae60f3d66b21"
   },
   "outputs": [
    {
     "name": "stdout",
     "output_type": "stream",
     "text": [
      "/content/drive/MyDrive/study_DL/Study_DL\n"
     ]
    }
   ],
   "source": [
    "%cd /content/drive/MyDrive/study_DL/Study_DL"
   ]
  },
  {
   "cell_type": "markdown",
   "metadata": {
    "id": "6gO74aSDPf20"
   },
   "source": [
    "# 텍스트 처리를 위한 임베딩 층을 활용한 간단한 모델 만들기"
   ]
  },
  {
   "cell_type": "code",
   "execution_count": 1,
   "metadata": {
    "executionInfo": {
     "elapsed": 2396,
     "status": "ok",
     "timestamp": 1675581507673,
     "user": {
      "displayName": "최애림",
      "userId": "12177073931316150776"
     },
     "user_tz": -540
    },
    "id": "DyXg47UTQVzN"
   },
   "outputs": [],
   "source": [
    "from keras.layers import Embedding"
   ]
  },
  {
   "cell_type": "code",
   "execution_count": 4,
   "metadata": {
    "executionInfo": {
     "elapsed": 49,
     "status": "ok",
     "timestamp": 1675581507715,
     "user": {
      "displayName": "최애림",
      "userId": "12177073931316150776"
     },
     "user_tz": -540
    },
    "id": "zeXyeCn_QVuU"
   },
   "outputs": [],
   "source": [
    "# 임베딩 layer 쌓기\n",
    "embedding_layer = Embedding(1000,64)   #(samples, sequence_length) -> (samples, sequence_length, embedding_dimensionality)반환 "
   ]
  },
  {
   "cell_type": "markdown",
   "metadata": {
    "id": "cMyUbyafYcY3"
   },
   "source": [
    "### 임베딩 층에 사용할 IMDB 데이터 로드"
   ]
  },
  {
   "cell_type": "code",
   "execution_count": 5,
   "metadata": {
    "executionInfo": {
     "elapsed": 464,
     "status": "ok",
     "timestamp": 1675581508131,
     "user": {
      "displayName": "최애림",
      "userId": "12177073931316150776"
     },
     "user_tz": -540
    },
    "id": "OTCIZkVSQVpp"
   },
   "outputs": [],
   "source": [
    "from keras.datasets import imdb\n",
    "from tensorflow.keras import preprocessing"
   ]
  },
  {
   "cell_type": "code",
   "execution_count": 6,
   "metadata": {
    "colab": {
     "base_uri": "https://localhost:8080/"
    },
    "executionInfo": {
     "elapsed": 4604,
     "status": "ok",
     "timestamp": 1675581512672,
     "user": {
      "displayName": "최애림",
      "userId": "12177073931316150776"
     },
     "user_tz": -540
    },
    "id": "l-cSH6NPYnP-",
    "outputId": "f25bf84d-51ba-464b-d0a2-93287f0fb0a1"
   },
   "outputs": [
    {
     "name": "stdout",
     "output_type": "stream",
     "text": [
      "Downloading data from https://storage.googleapis.com/tensorflow/tf-keras-datasets/imdb.npz\n",
      "17464789/17464789 [==============================] - 0s 0us/step\n"
     ]
    },
    {
     "data": {
      "text/plain": [
       "((25000,), (25000,))"
      ]
     },
     "execution_count": 6,
     "metadata": {},
     "output_type": "execute_result"
    }
   ],
   "source": [
    "(train_data, train_labels), (test_data, test_labels) = imdb.load_data(num_words = 10000)  # num_words: 피처로 사용할 단어 개수\n",
    "\n",
    "train_data.shape, test_data.shape"
   ]
  },
  {
   "cell_type": "code",
   "execution_count": 7,
   "metadata": {
    "colab": {
     "base_uri": "https://localhost:8080/"
    },
    "executionInfo": {
     "elapsed": 138,
     "status": "ok",
     "timestamp": 1675581512673,
     "user": {
      "displayName": "최애림",
      "userId": "12177073931316150776"
     },
     "user_tz": -540
    },
    "id": "m2190SM3Zxlr",
    "outputId": "df61dbb8-66a4-4e74-e45b-1732691c808d"
   },
   "outputs": [
    {
     "name": "stdout",
     "output_type": "stream",
     "text": [
      "[1, 14, 22, 16, 43, 530, 973, 1622, 1385, 65, 458, 4468, 66, 3941, 4, 173, 36, 256, 5, 25, 100, 43, 838, 112, 50, 670, 2, 9, 35, 480, 284, 5, 150, 4, 172, 112, 167, 2, 336, 385, 39, 4, 172, 4536, 1111, 17, 546, 38, 13, 447, 4, 192, 50, 16, 6, 147, 2025, 19, 14, 22, 4, 1920, 4613, 469, 4, 22, 71, 87, 12, 16, 43, 530, 38, 76, 15, 13, 1247, 4, 22, 17, 515, 17, 12, 16, 626, 18, 2, 5, 62, 386, 12, 8, 316, 8, 106, 5, 4, 2223, 5244, 16, 480, 66, 3785, 33, 4, 130, 12, 16, 38, 619, 5, 25, 124, 51, 36, 135, 48, 25, 1415, 33, 6, 22, 12, 215, 28, 77, 52, 5, 14, 407, 16, 82, 2, 8, 4, 107, 117, 5952, 15, 256, 4, 2, 7, 3766, 5, 723, 36, 71, 43, 530, 476, 26, 400, 317, 46, 7, 4, 2, 1029, 13, 104, 88, 4, 381, 15, 297, 98, 32, 2071, 56, 26, 141, 6, 194, 7486, 18, 4, 226, 22, 21, 134, 476, 26, 480, 5, 144, 30, 5535, 18, 51, 36, 28, 224, 92, 25, 104, 4, 226, 65, 16, 38, 1334, 88, 12, 16, 283, 5, 16, 4472, 113, 103, 32, 15, 16, 5345, 19, 178, 32]\n"
     ]
    }
   ],
   "source": [
    "print(train_data[0])"
   ]
  },
  {
   "cell_type": "code",
   "execution_count": 8,
   "metadata": {
    "colab": {
     "base_uri": "https://localhost:8080/"
    },
    "executionInfo": {
     "elapsed": 100,
     "status": "ok",
     "timestamp": 1675581512675,
     "user": {
      "displayName": "최애림",
      "userId": "12177073931316150776"
     },
     "user_tz": -540
    },
    "id": "idhTTDwoZPPo",
    "outputId": "3c20e130-3020-4748-f553-733b1201feff"
   },
   "outputs": [
    {
     "data": {
      "text/plain": [
       "((25000, 20), (25000, 20))"
      ]
     },
     "execution_count": 8,
     "metadata": {},
     "output_type": "execute_result"
    }
   ],
   "source": [
    "# 리스트를 2D 정수 텐서로 변환\n",
    "x_train = preprocessing.sequence.pad_sequences(train_data, maxlen = 20)  # maxlen: 사용할 텍스트의 길이(가장 빈번한 max_features개의 단어만 사용)\n",
    "x_test = preprocessing.sequence.pad_sequences(test_data, maxlen = 20)\n",
    "\n",
    "x_train.shape, x_test.shape"
   ]
  },
  {
   "cell_type": "code",
   "execution_count": 9,
   "metadata": {
    "colab": {
     "base_uri": "https://localhost:8080/"
    },
    "executionInfo": {
     "elapsed": 91,
     "status": "ok",
     "timestamp": 1675581512676,
     "user": {
      "displayName": "최애림",
      "userId": "12177073931316150776"
     },
     "user_tz": -540
    },
    "id": "zGr_4SipQVmJ",
    "outputId": "f6cefe50-41df-4c50-ec51-f290f16ca364"
   },
   "outputs": [
    {
     "data": {
      "text/plain": [
       "array([  65,   16,   38, 1334,   88,   12,   16,  283,    5,   16, 4472,\n",
       "        113,  103,   32,   15,   16, 5345,   19,  178,   32], dtype=int32)"
      ]
     },
     "execution_count": 9,
     "metadata": {},
     "output_type": "execute_result"
    }
   ],
   "source": [
    "x_train[0]"
   ]
  },
  {
   "cell_type": "markdown",
   "metadata": {
    "id": "29H4e5LIYimQ"
   },
   "source": [
    "### 모델 생성"
   ]
  },
  {
   "cell_type": "code",
   "execution_count": 10,
   "metadata": {
    "executionInfo": {
     "elapsed": 53,
     "status": "ok",
     "timestamp": 1675581512677,
     "user": {
      "displayName": "최애림",
      "userId": "12177073931316150776"
     },
     "user_tz": -540
    },
    "id": "ofhm_p5IQVdD"
   },
   "outputs": [],
   "source": [
    "from keras.models import Sequential\n",
    "from keras.layers import Dense, Flatten, Embedding"
   ]
  },
  {
   "cell_type": "code",
   "execution_count": 11,
   "metadata": {
    "executionInfo": {
     "elapsed": 2573,
     "status": "ok",
     "timestamp": 1675581515789,
     "user": {
      "displayName": "최애림",
      "userId": "12177073931316150776"
     },
     "user_tz": -540
    },
    "id": "YRxM7nhkQVXz"
   },
   "outputs": [],
   "source": [
    "model = Sequential()\n",
    "\n",
    "# 임베딩\n",
    "model.add(Embedding(10000, 8, input_length = 20))  \n",
    "            # 나중에 임베딩된 입력을 flatten 층에서 펼치기 위해 input_length를 지정함\n",
    "            # 출력 크기는 (10000, 20, 8)이 됨\n",
    "\n",
    "# 임베딩된 단어 펼치기: 3D 텐서가 (10000,20*8)의 2D 텐서가 됨\n",
    "model.add(Flatten())\n",
    "\n",
    "model.add(Dense(1, activation = 'sigmoid'))\n"
   ]
  },
  {
   "cell_type": "markdown",
   "metadata": {
    "id": "lycKlDpYb5VP"
   },
   "source": [
    "### 학습"
   ]
  },
  {
   "cell_type": "code",
   "execution_count": 12,
   "metadata": {
    "colab": {
     "base_uri": "https://localhost:8080/"
    },
    "executionInfo": {
     "elapsed": 41681,
     "status": "ok",
     "timestamp": 1675581557452,
     "user": {
      "displayName": "최애림",
      "userId": "12177073931316150776"
     },
     "user_tz": -540
    },
    "id": "YzTuHldyQVTw",
    "outputId": "62e0f3aa-e871-44cf-eef1-7ffac69496ea"
   },
   "outputs": [
    {
     "name": "stdout",
     "output_type": "stream",
     "text": [
      "Epoch 1/10\n",
      "625/625 [==============================] - 6s 5ms/step - loss: 0.6690 - acc: 0.6270 - val_loss: 0.6206 - val_acc: 0.6956\n",
      "Epoch 2/10\n",
      "625/625 [==============================] - 2s 3ms/step - loss: 0.5426 - acc: 0.7531 - val_loss: 0.5282 - val_acc: 0.7294\n",
      "Epoch 3/10\n",
      "625/625 [==============================] - 2s 3ms/step - loss: 0.4608 - acc: 0.7903 - val_loss: 0.5028 - val_acc: 0.7458\n",
      "Epoch 4/10\n",
      "625/625 [==============================] - 2s 3ms/step - loss: 0.4191 - acc: 0.8127 - val_loss: 0.4954 - val_acc: 0.7550\n",
      "Epoch 5/10\n",
      "625/625 [==============================] - 2s 3ms/step - loss: 0.3893 - acc: 0.8272 - val_loss: 0.4958 - val_acc: 0.7536\n",
      "Epoch 6/10\n",
      "625/625 [==============================] - 2s 3ms/step - loss: 0.3649 - acc: 0.8424 - val_loss: 0.4992 - val_acc: 0.7536\n",
      "Epoch 7/10\n",
      "625/625 [==============================] - 2s 3ms/step - loss: 0.3432 - acc: 0.8535 - val_loss: 0.5045 - val_acc: 0.7532\n",
      "Epoch 8/10\n",
      "625/625 [==============================] - 2s 3ms/step - loss: 0.3233 - acc: 0.8644 - val_loss: 0.5116 - val_acc: 0.7512\n",
      "Epoch 9/10\n",
      "625/625 [==============================] - 2s 3ms/step - loss: 0.3048 - acc: 0.8728 - val_loss: 0.5210 - val_acc: 0.7468\n",
      "Epoch 10/10\n",
      "625/625 [==============================] - 2s 3ms/step - loss: 0.2878 - acc: 0.8824 - val_loss: 0.5287 - val_acc: 0.7484\n"
     ]
    }
   ],
   "source": [
    "model.compile(optimizer = 'rmsprop',\n",
    "              loss = 'binary_crossentropy',\n",
    "              metrics = ['acc'])\n",
    "\n",
    "history = model.fit(x_train, train_labels,\n",
    "                    batch_size = 32,\n",
    "                    epochs = 10,\n",
    "                    validation_split = 0.2)"
   ]
  },
  {
   "cell_type": "markdown",
   "metadata": {
    "id": "BzuB8n_PeMdx"
   },
   "source": [
    "- 각 임베딩 시퀀스를 펼치고 하나의 dense층으로 훈련했으므로, 입력 시퀀스에 있는 각 단어를 독립적으로 다룸\n",
    "- 단어 사이의 관계/문장 구조 고려하지 않음\n",
    "  - 예를 들어, 'this movie is a bomb'과 'this movie is the bomb'을 부정적 리뷰로 동일하게 다룰 것\n",
    "- 따라서 각 시퀀스 전체를 고려한 특성을 학습하도록 임베딩 층 위에, 순환 층이나 1D 합성곱층을 추가하는 것이 좋음"
   ]
  },
  {
   "cell_type": "markdown",
   "metadata": {
    "id": "Il6jiVLqh9pI"
   },
   "source": [
    "## 사전 훈련된 임베딩 층을 사용하여 모델 만들기\n",
    "\n",
    "#### Word2Vec\n",
    "- 성별처럼 구체적인 의미가 있는 속성을 잡아냄\n",
    "\n",
    "#### GloVe\n",
    "- 위키디피아 데이터와 커먼 크롤 데이터에서 가져온 수백만 개의 영어 토큰에 대해서 임베딩을 미리 계산해 둠"
   ]
  },
  {
   "cell_type": "markdown",
   "metadata": {
    "id": "SCWe8OADiTsg"
   },
   "source": [
    "### 원본 IMDB 텍스트 다운 받고 데이터 쌓기"
   ]
  },
  {
   "cell_type": "code",
   "execution_count": 2,
   "metadata": {
    "executionInfo": {
     "elapsed": 418,
     "status": "ok",
     "timestamp": 1675583357786,
     "user": {
      "displayName": "최애림",
      "userId": "12177073931316150776"
     },
     "user_tz": -540
    },
    "id": "eWeVhteRh9Ws"
   },
   "outputs": [],
   "source": [
    "import os"
   ]
  },
  {
   "cell_type": "code",
   "execution_count": 52,
   "metadata": {
    "id": "YN3_O-v2QVO3"
   },
   "outputs": [],
   "source": [
    "base_dir = '../필요데이터/aclImdb'\n",
    "\n",
    "train_dir = os.path.join(base_dir,'train')\n",
    "\n",
    "labels = []\n",
    "texts = []\n",
    "\n",
    "for label_type in ['neg', 'pos']:\n",
    "    dir_name = os.path.join(train_dir, label_type)\n",
    "\n",
    "    for fname in sorted(os.listdir(dir_name)):\n",
    "        if fname[-4:] == '.txt':\n",
    "            f = open(os.path.join(dir_name, fname), encoding = 'utf8')\n",
    "            texts.append(f.read())\n",
    "            f.close()\n",
    "            \n",
    "            if label_type == 'neg':\n",
    "                labels.append(0)\n",
    "            else:\n",
    "                labels.append(1)"
   ]
  },
  {
   "cell_type": "code",
   "execution_count": 53,
   "metadata": {},
   "outputs": [
    {
     "data": {
      "text/plain": [
       "(25000, 25000)"
      ]
     },
     "execution_count": 53,
     "metadata": {},
     "output_type": "execute_result"
    }
   ],
   "source": [
    "len(texts), len(labels)"
   ]
  },
  {
   "cell_type": "markdown",
   "metadata": {
    "id": "wmNvaRIXk8Ow"
   },
   "source": [
    "### 데이터 토큰화"
   ]
  },
  {
   "cell_type": "code",
   "execution_count": 54,
   "metadata": {
    "executionInfo": {
     "elapsed": 460,
     "status": "ok",
     "timestamp": 1675583875167,
     "user": {
      "displayName": "최애림",
      "userId": "12177073931316150776"
     },
     "user_tz": -540
    },
    "id": "niraMzAZQVKl"
   },
   "outputs": [],
   "source": [
    "from tensorflow.keras.preprocessing.text import Tokenizer\n",
    "from tensorflow.keras.preprocessing.sequence import pad_sequences\n",
    "import numpy as np"
   ]
  },
  {
   "cell_type": "code",
   "execution_count": 55,
   "metadata": {},
   "outputs": [],
   "source": [
    "maxlen = 100\n",
    "training_samples = 200\n",
    "validation_samples = 10000\n",
    "max_words = 10000"
   ]
  },
  {
   "cell_type": "code",
   "execution_count": 56,
   "metadata": {
    "id": "GKI_5FKWQVFO"
   },
   "outputs": [
    {
     "name": "stdout",
     "output_type": "stream",
     "text": [
      "25000\n"
     ]
    }
   ],
   "source": [
    "# 토큰화\n",
    "tokenizer = Tokenizer(num_words = max_words)\n",
    "tokenizer.fit_on_texts(texts)\n",
    "sequences = tokenizer.texts_to_sequences(texts)\n",
    "print(len(sequences))"
   ]
  },
  {
   "cell_type": "code",
   "execution_count": 57,
   "metadata": {},
   "outputs": [
    {
     "name": "stdout",
     "output_type": "stream",
     "text": [
      "[62, 4, 3, 129, 34, 44, 7576, 1414, 15, 3, 4252, 514, 43, 16, 3, 633, 133, 12, 6, 3, 1301, 459, 4, 1751, 209, 3, 7693, 308, 6, 676, 80, 32, 2137, 1110, 3008, 31, 1, 929, 4, 42, 5120, 469, 9, 2665, 1751, 1, 223, 55, 16, 54, 828, 1318, 847, 228, 9, 40, 96, 122, 1484, 57, 145, 36, 1, 996, 141, 27, 676, 122, 1, 411, 59, 94, 2278, 303, 772, 5, 3, 837, 20, 3, 1755, 646, 42, 125, 71, 22, 235, 101, 16, 46, 49, 624, 31, 702, 84, 702, 378, 3493, 2, 8422, 67, 27, 107, 3348]\n"
     ]
    }
   ],
   "source": [
    "print(sequences[0])"
   ]
  },
  {
   "cell_type": "code",
   "execution_count": 58,
   "metadata": {
    "id": "h4KvsWy1QVAf"
   },
   "outputs": [
    {
     "name": "stdout",
     "output_type": "stream",
     "text": [
      "88582개의 고유한 토큰을 찾았습니다.\n"
     ]
    }
   ],
   "source": [
    "word_index = tokenizer.word_index\n",
    "\n",
    "print(f'{len(word_index)}개의 고유한 토큰을 찾았습니다.')"
   ]
  },
  {
   "cell_type": "code",
   "execution_count": 16,
   "metadata": {},
   "outputs": [
    {
     "data": {
      "text/plain": [
       "{'the': 1,\n",
       " 'and': 2,\n",
       " 'a': 3,\n",
       " 'of': 4,\n",
       " 'to': 5,\n",
       " 'is': 6,\n",
       " 'br': 7,\n",
       " 'in': 8,\n",
       " 'it': 9,\n",
       " 'i': 10,\n",
       " 'this': 11,\n",
       " 'that': 12,\n",
       " 'was': 13,\n",
       " 'as': 14,\n",
       " 'for': 15,\n",
       " 'with': 16,\n",
       " 'movie': 17,\n",
       " 'but': 18,\n",
       " 'film': 19,\n",
       " 'on': 20,\n",
       " 'not': 21,\n",
       " 'you': 22,\n",
       " 'are': 23,\n",
       " 'his': 24,\n",
       " 'have': 25,\n",
       " 'he': 26,\n",
       " 'be': 27,\n",
       " 'one': 28,\n",
       " 'all': 29,\n",
       " 'at': 30,\n",
       " 'by': 31,\n",
       " 'an': 32,\n",
       " 'they': 33,\n",
       " 'who': 34,\n",
       " 'so': 35,\n",
       " 'from': 36,\n",
       " 'like': 37,\n",
       " 'her': 38,\n",
       " 'or': 39,\n",
       " 'just': 40,\n",
       " 'about': 41,\n",
       " \"it's\": 42,\n",
       " 'out': 43,\n",
       " 'has': 44,\n",
       " 'if': 45,\n",
       " 'some': 46,\n",
       " 'there': 47,\n",
       " 'what': 48,\n",
       " 'good': 49,\n",
       " 'more': 50,\n",
       " 'when': 51,\n",
       " 'very': 52,\n",
       " 'up': 53,\n",
       " 'no': 54,\n",
       " 'time': 55,\n",
       " 'she': 56,\n",
       " 'even': 57,\n",
       " 'my': 58,\n",
       " 'would': 59,\n",
       " 'which': 60,\n",
       " 'only': 61,\n",
       " 'story': 62,\n",
       " 'really': 63,\n",
       " 'see': 64,\n",
       " 'their': 65,\n",
       " 'had': 66,\n",
       " 'can': 67,\n",
       " 'were': 68,\n",
       " 'me': 69,\n",
       " 'well': 70,\n",
       " 'than': 71,\n",
       " 'we': 72,\n",
       " 'much': 73,\n",
       " 'been': 74,\n",
       " 'bad': 75,\n",
       " 'get': 76,\n",
       " 'will': 77,\n",
       " 'do': 78,\n",
       " 'also': 79,\n",
       " 'into': 80,\n",
       " 'people': 81,\n",
       " 'other': 82,\n",
       " 'first': 83,\n",
       " 'great': 84,\n",
       " 'because': 85,\n",
       " 'how': 86,\n",
       " 'him': 87,\n",
       " 'most': 88,\n",
       " \"don't\": 89,\n",
       " 'made': 90,\n",
       " 'its': 91,\n",
       " 'then': 92,\n",
       " 'way': 93,\n",
       " 'make': 94,\n",
       " 'them': 95,\n",
       " 'too': 96,\n",
       " 'could': 97,\n",
       " 'any': 98,\n",
       " 'movies': 99,\n",
       " 'after': 100,\n",
       " 'think': 101,\n",
       " 'characters': 102,\n",
       " 'watch': 103,\n",
       " 'two': 104,\n",
       " 'films': 105,\n",
       " 'character': 106,\n",
       " 'seen': 107,\n",
       " 'many': 108,\n",
       " 'being': 109,\n",
       " 'life': 110,\n",
       " 'plot': 111,\n",
       " 'never': 112,\n",
       " 'acting': 113,\n",
       " 'little': 114,\n",
       " 'best': 115,\n",
       " 'love': 116,\n",
       " 'over': 117,\n",
       " 'where': 118,\n",
       " 'did': 119,\n",
       " 'show': 120,\n",
       " 'know': 121,\n",
       " 'off': 122,\n",
       " 'ever': 123,\n",
       " 'does': 124,\n",
       " 'better': 125,\n",
       " 'your': 126,\n",
       " 'end': 127,\n",
       " 'still': 128,\n",
       " 'man': 129,\n",
       " 'here': 130,\n",
       " 'these': 131,\n",
       " 'say': 132,\n",
       " 'scene': 133,\n",
       " 'while': 134,\n",
       " 'why': 135,\n",
       " 'scenes': 136,\n",
       " 'go': 137,\n",
       " 'such': 138,\n",
       " 'something': 139,\n",
       " 'through': 140,\n",
       " 'should': 141,\n",
       " 'back': 142,\n",
       " \"i'm\": 143,\n",
       " 'real': 144,\n",
       " 'those': 145,\n",
       " 'watching': 146,\n",
       " 'now': 147,\n",
       " 'though': 148,\n",
       " \"doesn't\": 149,\n",
       " 'years': 150,\n",
       " 'old': 151,\n",
       " 'thing': 152,\n",
       " 'actors': 153,\n",
       " 'work': 154,\n",
       " '10': 155,\n",
       " 'before': 156,\n",
       " 'another': 157,\n",
       " \"didn't\": 158,\n",
       " 'new': 159,\n",
       " 'funny': 160,\n",
       " 'nothing': 161,\n",
       " 'actually': 162,\n",
       " 'makes': 163,\n",
       " 'director': 164,\n",
       " 'look': 165,\n",
       " 'find': 166,\n",
       " 'going': 167,\n",
       " 'few': 168,\n",
       " 'same': 169,\n",
       " 'part': 170,\n",
       " 'again': 171,\n",
       " 'every': 172,\n",
       " 'lot': 173,\n",
       " 'cast': 174,\n",
       " 'us': 175,\n",
       " 'quite': 176,\n",
       " 'down': 177,\n",
       " 'want': 178,\n",
       " 'world': 179,\n",
       " 'things': 180,\n",
       " 'pretty': 181,\n",
       " 'young': 182,\n",
       " 'seems': 183,\n",
       " 'around': 184,\n",
       " 'got': 185,\n",
       " 'horror': 186,\n",
       " 'however': 187,\n",
       " \"can't\": 188,\n",
       " 'fact': 189,\n",
       " 'take': 190,\n",
       " 'big': 191,\n",
       " 'enough': 192,\n",
       " 'long': 193,\n",
       " 'thought': 194,\n",
       " \"that's\": 195,\n",
       " 'both': 196,\n",
       " 'between': 197,\n",
       " 'series': 198,\n",
       " 'give': 199,\n",
       " 'may': 200,\n",
       " 'original': 201,\n",
       " 'action': 202,\n",
       " 'own': 203,\n",
       " \"i've\": 204,\n",
       " 'right': 205,\n",
       " 'without': 206,\n",
       " 'always': 207,\n",
       " 'times': 208,\n",
       " 'comedy': 209,\n",
       " 'point': 210,\n",
       " 'gets': 211,\n",
       " 'must': 212,\n",
       " 'come': 213,\n",
       " 'role': 214,\n",
       " \"isn't\": 215,\n",
       " 'saw': 216,\n",
       " 'almost': 217,\n",
       " 'interesting': 218,\n",
       " 'least': 219,\n",
       " 'family': 220,\n",
       " 'done': 221,\n",
       " \"there's\": 222,\n",
       " 'whole': 223,\n",
       " 'bit': 224,\n",
       " 'music': 225,\n",
       " 'script': 226,\n",
       " 'far': 227,\n",
       " 'making': 228,\n",
       " 'anything': 229,\n",
       " 'guy': 230,\n",
       " 'minutes': 231,\n",
       " 'feel': 232,\n",
       " 'last': 233,\n",
       " 'since': 234,\n",
       " 'might': 235,\n",
       " 'performance': 236,\n",
       " \"he's\": 237,\n",
       " '2': 238,\n",
       " 'probably': 239,\n",
       " 'kind': 240,\n",
       " 'am': 241,\n",
       " 'away': 242,\n",
       " 'yet': 243,\n",
       " 'rather': 244,\n",
       " 'tv': 245,\n",
       " 'worst': 246,\n",
       " 'girl': 247,\n",
       " 'day': 248,\n",
       " 'sure': 249,\n",
       " 'fun': 250,\n",
       " 'hard': 251,\n",
       " 'woman': 252,\n",
       " 'played': 253,\n",
       " 'each': 254,\n",
       " 'found': 255,\n",
       " 'anyone': 256,\n",
       " 'having': 257,\n",
       " 'although': 258,\n",
       " 'especially': 259,\n",
       " 'our': 260,\n",
       " 'course': 261,\n",
       " 'believe': 262,\n",
       " 'comes': 263,\n",
       " 'looking': 264,\n",
       " 'screen': 265,\n",
       " 'trying': 266,\n",
       " 'set': 267,\n",
       " 'goes': 268,\n",
       " 'looks': 269,\n",
       " 'place': 270,\n",
       " 'book': 271,\n",
       " 'different': 272,\n",
       " 'put': 273,\n",
       " 'ending': 274,\n",
       " 'money': 275,\n",
       " 'maybe': 276,\n",
       " 'once': 277,\n",
       " 'sense': 278,\n",
       " 'reason': 279,\n",
       " 'true': 280,\n",
       " 'actor': 281,\n",
       " 'everything': 282,\n",
       " \"wasn't\": 283,\n",
       " 'shows': 284,\n",
       " 'dvd': 285,\n",
       " 'three': 286,\n",
       " 'worth': 287,\n",
       " 'year': 288,\n",
       " 'job': 289,\n",
       " 'main': 290,\n",
       " 'someone': 291,\n",
       " 'together': 292,\n",
       " 'watched': 293,\n",
       " 'play': 294,\n",
       " 'plays': 295,\n",
       " 'american': 296,\n",
       " '1': 297,\n",
       " 'said': 298,\n",
       " 'effects': 299,\n",
       " 'later': 300,\n",
       " 'takes': 301,\n",
       " 'instead': 302,\n",
       " 'seem': 303,\n",
       " 'beautiful': 304,\n",
       " 'john': 305,\n",
       " 'himself': 306,\n",
       " 'version': 307,\n",
       " 'audience': 308,\n",
       " 'high': 309,\n",
       " 'house': 310,\n",
       " 'night': 311,\n",
       " 'during': 312,\n",
       " 'everyone': 313,\n",
       " 'left': 314,\n",
       " 'special': 315,\n",
       " 'seeing': 316,\n",
       " 'half': 317,\n",
       " 'excellent': 318,\n",
       " 'wife': 319,\n",
       " 'star': 320,\n",
       " 'shot': 321,\n",
       " 'war': 322,\n",
       " 'idea': 323,\n",
       " 'nice': 324,\n",
       " 'black': 325,\n",
       " 'less': 326,\n",
       " 'mind': 327,\n",
       " 'simply': 328,\n",
       " 'read': 329,\n",
       " 'second': 330,\n",
       " 'else': 331,\n",
       " \"you're\": 332,\n",
       " 'father': 333,\n",
       " 'fan': 334,\n",
       " 'help': 335,\n",
       " 'poor': 336,\n",
       " 'completely': 337,\n",
       " 'death': 338,\n",
       " '3': 339,\n",
       " 'used': 340,\n",
       " 'home': 341,\n",
       " 'either': 342,\n",
       " 'short': 343,\n",
       " 'line': 344,\n",
       " 'given': 345,\n",
       " 'men': 346,\n",
       " 'top': 347,\n",
       " 'dead': 348,\n",
       " 'budget': 349,\n",
       " 'try': 350,\n",
       " 'performances': 351,\n",
       " 'wrong': 352,\n",
       " 'classic': 353,\n",
       " 'boring': 354,\n",
       " 'enjoy': 355,\n",
       " 'need': 356,\n",
       " 'rest': 357,\n",
       " 'use': 358,\n",
       " 'hollywood': 359,\n",
       " 'kids': 360,\n",
       " 'low': 361,\n",
       " 'production': 362,\n",
       " 'until': 363,\n",
       " 'along': 364,\n",
       " 'full': 365,\n",
       " 'friends': 366,\n",
       " 'camera': 367,\n",
       " 'truly': 368,\n",
       " 'women': 369,\n",
       " 'awful': 370,\n",
       " 'video': 371,\n",
       " 'next': 372,\n",
       " 'tell': 373,\n",
       " 'remember': 374,\n",
       " 'couple': 375,\n",
       " 'stupid': 376,\n",
       " 'start': 377,\n",
       " 'stars': 378,\n",
       " 'perhaps': 379,\n",
       " 'mean': 380,\n",
       " 'sex': 381,\n",
       " 'came': 382,\n",
       " 'recommend': 383,\n",
       " 'let': 384,\n",
       " 'moments': 385,\n",
       " 'wonderful': 386,\n",
       " 'episode': 387,\n",
       " 'understand': 388,\n",
       " 'small': 389,\n",
       " 'face': 390,\n",
       " 'terrible': 391,\n",
       " 'playing': 392,\n",
       " 'school': 393,\n",
       " 'getting': 394,\n",
       " 'written': 395,\n",
       " 'often': 396,\n",
       " 'doing': 397,\n",
       " 'keep': 398,\n",
       " 'early': 399,\n",
       " 'name': 400,\n",
       " 'perfect': 401,\n",
       " 'style': 402,\n",
       " 'human': 403,\n",
       " 'definitely': 404,\n",
       " 'gives': 405,\n",
       " 'others': 406,\n",
       " 'itself': 407,\n",
       " 'lines': 408,\n",
       " 'live': 409,\n",
       " 'become': 410,\n",
       " 'dialogue': 411,\n",
       " 'person': 412,\n",
       " 'lost': 413,\n",
       " 'finally': 414,\n",
       " 'piece': 415,\n",
       " 'head': 416,\n",
       " 'felt': 417,\n",
       " 'case': 418,\n",
       " 'yes': 419,\n",
       " 'liked': 420,\n",
       " 'supposed': 421,\n",
       " 'title': 422,\n",
       " \"couldn't\": 423,\n",
       " 'absolutely': 424,\n",
       " 'white': 425,\n",
       " 'against': 426,\n",
       " 'boy': 427,\n",
       " 'picture': 428,\n",
       " 'sort': 429,\n",
       " 'worse': 430,\n",
       " 'certainly': 431,\n",
       " 'went': 432,\n",
       " 'entire': 433,\n",
       " 'waste': 434,\n",
       " 'cinema': 435,\n",
       " 'problem': 436,\n",
       " 'hope': 437,\n",
       " 'entertaining': 438,\n",
       " \"she's\": 439,\n",
       " 'mr': 440,\n",
       " 'overall': 441,\n",
       " 'evil': 442,\n",
       " 'called': 443,\n",
       " 'loved': 444,\n",
       " 'based': 445,\n",
       " 'oh': 446,\n",
       " 'several': 447,\n",
       " 'fans': 448,\n",
       " 'mother': 449,\n",
       " 'drama': 450,\n",
       " 'beginning': 451,\n",
       " 'killer': 452,\n",
       " 'lives': 453,\n",
       " '5': 454,\n",
       " 'direction': 455,\n",
       " 'care': 456,\n",
       " 'becomes': 457,\n",
       " 'already': 458,\n",
       " 'example': 459,\n",
       " 'laugh': 460,\n",
       " 'friend': 461,\n",
       " 'dark': 462,\n",
       " 'under': 463,\n",
       " 'despite': 464,\n",
       " 'seemed': 465,\n",
       " 'throughout': 466,\n",
       " '4': 467,\n",
       " 'turn': 468,\n",
       " 'unfortunately': 469,\n",
       " 'wanted': 470,\n",
       " \"i'd\": 471,\n",
       " '\\x96': 472,\n",
       " 'children': 473,\n",
       " 'final': 474,\n",
       " 'fine': 475,\n",
       " 'history': 476,\n",
       " 'amazing': 477,\n",
       " 'sound': 478,\n",
       " 'guess': 479,\n",
       " 'heart': 480,\n",
       " 'totally': 481,\n",
       " 'humor': 482,\n",
       " 'lead': 483,\n",
       " 'writing': 484,\n",
       " 'michael': 485,\n",
       " 'quality': 486,\n",
       " \"you'll\": 487,\n",
       " 'close': 488,\n",
       " 'son': 489,\n",
       " 'guys': 490,\n",
       " 'wants': 491,\n",
       " 'works': 492,\n",
       " 'behind': 493,\n",
       " 'tries': 494,\n",
       " 'art': 495,\n",
       " 'side': 496,\n",
       " 'game': 497,\n",
       " 'past': 498,\n",
       " 'able': 499,\n",
       " 'b': 500,\n",
       " 'days': 501,\n",
       " 'turns': 502,\n",
       " 'child': 503,\n",
       " \"they're\": 504,\n",
       " 'hand': 505,\n",
       " 'flick': 506,\n",
       " 'enjoyed': 507,\n",
       " 'act': 508,\n",
       " 'genre': 509,\n",
       " 'town': 510,\n",
       " 'favorite': 511,\n",
       " 'soon': 512,\n",
       " 'kill': 513,\n",
       " 'starts': 514,\n",
       " 'sometimes': 515,\n",
       " 'car': 516,\n",
       " 'gave': 517,\n",
       " 'run': 518,\n",
       " 'late': 519,\n",
       " 'actress': 520,\n",
       " 'etc': 521,\n",
       " 'eyes': 522,\n",
       " 'directed': 523,\n",
       " 'horrible': 524,\n",
       " \"won't\": 525,\n",
       " 'brilliant': 526,\n",
       " 'viewer': 527,\n",
       " 'parts': 528,\n",
       " 'themselves': 529,\n",
       " 'self': 530,\n",
       " 'hour': 531,\n",
       " 'expect': 532,\n",
       " 'thinking': 533,\n",
       " 'stories': 534,\n",
       " 'stuff': 535,\n",
       " 'girls': 536,\n",
       " 'obviously': 537,\n",
       " 'blood': 538,\n",
       " 'decent': 539,\n",
       " 'city': 540,\n",
       " 'voice': 541,\n",
       " 'highly': 542,\n",
       " 'myself': 543,\n",
       " 'feeling': 544,\n",
       " 'fight': 545,\n",
       " 'except': 546,\n",
       " 'slow': 547,\n",
       " 'matter': 548,\n",
       " 'type': 549,\n",
       " 'kid': 550,\n",
       " 'anyway': 551,\n",
       " 'roles': 552,\n",
       " 'heard': 553,\n",
       " 'killed': 554,\n",
       " 'says': 555,\n",
       " 'god': 556,\n",
       " 'age': 557,\n",
       " 'moment': 558,\n",
       " 'took': 559,\n",
       " 'leave': 560,\n",
       " 'writer': 561,\n",
       " 'strong': 562,\n",
       " 'cannot': 563,\n",
       " 'violence': 564,\n",
       " 'police': 565,\n",
       " 'hit': 566,\n",
       " 'happens': 567,\n",
       " 'stop': 568,\n",
       " 'particularly': 569,\n",
       " 'known': 570,\n",
       " 'involved': 571,\n",
       " 'happened': 572,\n",
       " 'extremely': 573,\n",
       " 'daughter': 574,\n",
       " 'obvious': 575,\n",
       " 'told': 576,\n",
       " 'chance': 577,\n",
       " 'living': 578,\n",
       " 'coming': 579,\n",
       " 'lack': 580,\n",
       " 'experience': 581,\n",
       " 'alone': 582,\n",
       " 'including': 583,\n",
       " \"wouldn't\": 584,\n",
       " 'murder': 585,\n",
       " 'attempt': 586,\n",
       " 's': 587,\n",
       " 'james': 588,\n",
       " 'please': 589,\n",
       " 'happen': 590,\n",
       " 'wonder': 591,\n",
       " 'crap': 592,\n",
       " 'brother': 593,\n",
       " 'ago': 594,\n",
       " \"film's\": 595,\n",
       " 'gore': 596,\n",
       " 'complete': 597,\n",
       " 'none': 598,\n",
       " 'interest': 599,\n",
       " 'score': 600,\n",
       " 'group': 601,\n",
       " 'cut': 602,\n",
       " 'simple': 603,\n",
       " 'save': 604,\n",
       " 'looked': 605,\n",
       " 'ok': 606,\n",
       " 'hell': 607,\n",
       " 'career': 608,\n",
       " 'number': 609,\n",
       " 'song': 610,\n",
       " 'possible': 611,\n",
       " 'seriously': 612,\n",
       " 'annoying': 613,\n",
       " 'exactly': 614,\n",
       " 'sad': 615,\n",
       " 'shown': 616,\n",
       " 'running': 617,\n",
       " 'serious': 618,\n",
       " 'musical': 619,\n",
       " 'yourself': 620,\n",
       " 'taken': 621,\n",
       " 'whose': 622,\n",
       " 'released': 623,\n",
       " 'cinematography': 624,\n",
       " 'david': 625,\n",
       " 'scary': 626,\n",
       " 'ends': 627,\n",
       " 'english': 628,\n",
       " 'hero': 629,\n",
       " 'usually': 630,\n",
       " 'hours': 631,\n",
       " 'reality': 632,\n",
       " 'opening': 633,\n",
       " \"i'll\": 634,\n",
       " 'across': 635,\n",
       " 'light': 636,\n",
       " 'jokes': 637,\n",
       " 'today': 638,\n",
       " 'hilarious': 639,\n",
       " 'somewhat': 640,\n",
       " 'usual': 641,\n",
       " 'body': 642,\n",
       " 'ridiculous': 643,\n",
       " 'cool': 644,\n",
       " 'started': 645,\n",
       " 'level': 646,\n",
       " 'view': 647,\n",
       " 'relationship': 648,\n",
       " 'change': 649,\n",
       " 'opinion': 650,\n",
       " 'happy': 651,\n",
       " 'middle': 652,\n",
       " 'taking': 653,\n",
       " 'wish': 654,\n",
       " 'finds': 655,\n",
       " 'husband': 656,\n",
       " 'order': 657,\n",
       " 'saying': 658,\n",
       " 'shots': 659,\n",
       " 'talking': 660,\n",
       " 'ones': 661,\n",
       " 'documentary': 662,\n",
       " 'huge': 663,\n",
       " 'novel': 664,\n",
       " 'mostly': 665,\n",
       " 'female': 666,\n",
       " 'robert': 667,\n",
       " 'power': 668,\n",
       " 'episodes': 669,\n",
       " 'room': 670,\n",
       " 'important': 671,\n",
       " 'rating': 672,\n",
       " 'talent': 673,\n",
       " 'five': 674,\n",
       " 'major': 675,\n",
       " 'turned': 676,\n",
       " 'strange': 677,\n",
       " 'word': 678,\n",
       " 'modern': 679,\n",
       " 'call': 680,\n",
       " 'apparently': 681,\n",
       " 'disappointed': 682,\n",
       " 'single': 683,\n",
       " 'events': 684,\n",
       " 'due': 685,\n",
       " 'four': 686,\n",
       " 'songs': 687,\n",
       " 'basically': 688,\n",
       " 'attention': 689,\n",
       " '7': 690,\n",
       " 'knows': 691,\n",
       " 'clearly': 692,\n",
       " 'supporting': 693,\n",
       " 'knew': 694,\n",
       " 'non': 695,\n",
       " 'comic': 696,\n",
       " 'television': 697,\n",
       " 'british': 698,\n",
       " 'fast': 699,\n",
       " 'earth': 700,\n",
       " 'country': 701,\n",
       " 'future': 702,\n",
       " 'class': 703,\n",
       " 'cheap': 704,\n",
       " 'thriller': 705,\n",
       " 'silly': 706,\n",
       " '8': 707,\n",
       " 'king': 708,\n",
       " 'problems': 709,\n",
       " \"aren't\": 710,\n",
       " 'easily': 711,\n",
       " 'words': 712,\n",
       " 'tells': 713,\n",
       " 'jack': 714,\n",
       " 'miss': 715,\n",
       " 'local': 716,\n",
       " 'sequence': 717,\n",
       " 'entertainment': 718,\n",
       " 'bring': 719,\n",
       " 'paul': 720,\n",
       " 'beyond': 721,\n",
       " 'upon': 722,\n",
       " 'whether': 723,\n",
       " 'predictable': 724,\n",
       " 'moving': 725,\n",
       " 'romantic': 726,\n",
       " 'straight': 727,\n",
       " 'similar': 728,\n",
       " 'sets': 729,\n",
       " 'review': 730,\n",
       " 'oscar': 731,\n",
       " 'falls': 732,\n",
       " 'mystery': 733,\n",
       " 'enjoyable': 734,\n",
       " 'appears': 735,\n",
       " 'talk': 736,\n",
       " 'rock': 737,\n",
       " 'needs': 738,\n",
       " 'george': 739,\n",
       " 'giving': 740,\n",
       " 'eye': 741,\n",
       " 'richard': 742,\n",
       " 'within': 743,\n",
       " 'ten': 744,\n",
       " 'animation': 745,\n",
       " 'message': 746,\n",
       " 'near': 747,\n",
       " 'theater': 748,\n",
       " 'above': 749,\n",
       " 'dull': 750,\n",
       " 'sequel': 751,\n",
       " 'nearly': 752,\n",
       " 'theme': 753,\n",
       " 'points': 754,\n",
       " 'stand': 755,\n",
       " \"'\": 756,\n",
       " 'mention': 757,\n",
       " 'bunch': 758,\n",
       " 'add': 759,\n",
       " 'lady': 760,\n",
       " 'herself': 761,\n",
       " 'feels': 762,\n",
       " 'release': 763,\n",
       " 'red': 764,\n",
       " 'team': 765,\n",
       " 'storyline': 766,\n",
       " 'surprised': 767,\n",
       " 'ways': 768,\n",
       " 'using': 769,\n",
       " 'named': 770,\n",
       " \"haven't\": 771,\n",
       " 'easy': 772,\n",
       " 'lots': 773,\n",
       " 'fantastic': 774,\n",
       " 'begins': 775,\n",
       " 'actual': 776,\n",
       " 'working': 777,\n",
       " 'effort': 778,\n",
       " 'york': 779,\n",
       " 'die': 780,\n",
       " 'hate': 781,\n",
       " 'french': 782,\n",
       " 'tale': 783,\n",
       " 'minute': 784,\n",
       " 'stay': 785,\n",
       " '9': 786,\n",
       " 'clear': 787,\n",
       " 'elements': 788,\n",
       " 'feature': 789,\n",
       " 'among': 790,\n",
       " 'follow': 791,\n",
       " 'comments': 792,\n",
       " 're': 793,\n",
       " 'viewers': 794,\n",
       " 'avoid': 795,\n",
       " 'sister': 796,\n",
       " 'typical': 797,\n",
       " 'showing': 798,\n",
       " 'editing': 799,\n",
       " 'tried': 800,\n",
       " \"what's\": 801,\n",
       " 'famous': 802,\n",
       " 'sorry': 803,\n",
       " 'dialog': 804,\n",
       " 'fall': 805,\n",
       " 'check': 806,\n",
       " 'period': 807,\n",
       " 'form': 808,\n",
       " 'season': 809,\n",
       " 'certain': 810,\n",
       " 'filmed': 811,\n",
       " 'weak': 812,\n",
       " 'soundtrack': 813,\n",
       " 'means': 814,\n",
       " 'material': 815,\n",
       " 'buy': 816,\n",
       " 'realistic': 817,\n",
       " 'somehow': 818,\n",
       " 'figure': 819,\n",
       " 'crime': 820,\n",
       " 'gone': 821,\n",
       " 'doubt': 822,\n",
       " 'peter': 823,\n",
       " 'tom': 824,\n",
       " 'viewing': 825,\n",
       " 'kept': 826,\n",
       " 't': 827,\n",
       " 'general': 828,\n",
       " 'leads': 829,\n",
       " 'greatest': 830,\n",
       " 'space': 831,\n",
       " 'lame': 832,\n",
       " 'suspense': 833,\n",
       " 'dance': 834,\n",
       " 'brought': 835,\n",
       " 'imagine': 836,\n",
       " 'third': 837,\n",
       " 'atmosphere': 838,\n",
       " 'hear': 839,\n",
       " 'particular': 840,\n",
       " 'whatever': 841,\n",
       " 'sequences': 842,\n",
       " 'parents': 843,\n",
       " 'lee': 844,\n",
       " 'move': 845,\n",
       " 'indeed': 846,\n",
       " 'eventually': 847,\n",
       " 'rent': 848,\n",
       " 'learn': 849,\n",
       " 'de': 850,\n",
       " 'note': 851,\n",
       " 'forget': 852,\n",
       " 'deal': 853,\n",
       " 'reviews': 854,\n",
       " 'wait': 855,\n",
       " 'average': 856,\n",
       " 'japanese': 857,\n",
       " 'poorly': 858,\n",
       " 'sexual': 859,\n",
       " 'okay': 860,\n",
       " 'premise': 861,\n",
       " 'surprise': 862,\n",
       " 'zombie': 863,\n",
       " 'believable': 864,\n",
       " 'stage': 865,\n",
       " 'sit': 866,\n",
       " 'possibly': 867,\n",
       " \"who's\": 868,\n",
       " 'decided': 869,\n",
       " 'expected': 870,\n",
       " \"you've\": 871,\n",
       " 'subject': 872,\n",
       " 'nature': 873,\n",
       " 'became': 874,\n",
       " 'difficult': 875,\n",
       " 'free': 876,\n",
       " 'screenplay': 877,\n",
       " 'killing': 878,\n",
       " 'truth': 879,\n",
       " 'romance': 880,\n",
       " 'dr': 881,\n",
       " 'nor': 882,\n",
       " 'reading': 883,\n",
       " 'needed': 884,\n",
       " 'question': 885,\n",
       " 'leaves': 886,\n",
       " 'street': 887,\n",
       " '20': 888,\n",
       " 'meets': 889,\n",
       " 'hot': 890,\n",
       " 'unless': 891,\n",
       " 'begin': 892,\n",
       " 'baby': 893,\n",
       " 'credits': 894,\n",
       " 'otherwise': 895,\n",
       " 'imdb': 896,\n",
       " 'superb': 897,\n",
       " 'write': 898,\n",
       " 'shame': 899,\n",
       " \"let's\": 900,\n",
       " 'situation': 901,\n",
       " 'dramatic': 902,\n",
       " 'memorable': 903,\n",
       " 'directors': 904,\n",
       " 'earlier': 905,\n",
       " 'badly': 906,\n",
       " 'meet': 907,\n",
       " 'open': 908,\n",
       " 'disney': 909,\n",
       " 'dog': 910,\n",
       " 'joe': 911,\n",
       " 'male': 912,\n",
       " 'weird': 913,\n",
       " 'forced': 914,\n",
       " 'acted': 915,\n",
       " 'laughs': 916,\n",
       " 'sci': 917,\n",
       " 'emotional': 918,\n",
       " 'older': 919,\n",
       " 'realize': 920,\n",
       " 'fi': 921,\n",
       " 'dream': 922,\n",
       " 'society': 923,\n",
       " 'writers': 924,\n",
       " 'interested': 925,\n",
       " 'footage': 926,\n",
       " 'comment': 927,\n",
       " 'forward': 928,\n",
       " 'crazy': 929,\n",
       " 'deep': 930,\n",
       " 'whom': 931,\n",
       " 'plus': 932,\n",
       " 'beauty': 933,\n",
       " 'america': 934,\n",
       " 'sounds': 935,\n",
       " 'fantasy': 936,\n",
       " 'directing': 937,\n",
       " 'keeps': 938,\n",
       " 'development': 939,\n",
       " 'ask': 940,\n",
       " 'features': 941,\n",
       " 'air': 942,\n",
       " 'quickly': 943,\n",
       " 'mess': 944,\n",
       " 'creepy': 945,\n",
       " 'towards': 946,\n",
       " 'perfectly': 947,\n",
       " 'mark': 948,\n",
       " 'worked': 949,\n",
       " 'box': 950,\n",
       " 'cheesy': 951,\n",
       " 'unique': 952,\n",
       " 'hands': 953,\n",
       " 'setting': 954,\n",
       " 'plenty': 955,\n",
       " 'previous': 956,\n",
       " 'brings': 957,\n",
       " 'result': 958,\n",
       " 'total': 959,\n",
       " 'e': 960,\n",
       " 'effect': 961,\n",
       " 'incredibly': 962,\n",
       " 'personal': 963,\n",
       " 'monster': 964,\n",
       " 'rate': 965,\n",
       " 'fire': 966,\n",
       " 'business': 967,\n",
       " 'leading': 968,\n",
       " 'apart': 969,\n",
       " 'casting': 970,\n",
       " 'admit': 971,\n",
       " 'background': 972,\n",
       " 'powerful': 973,\n",
       " 'appear': 974,\n",
       " 'joke': 975,\n",
       " 'girlfriend': 976,\n",
       " 'telling': 977,\n",
       " 'meant': 978,\n",
       " 'hardly': 979,\n",
       " 'present': 980,\n",
       " 'christmas': 981,\n",
       " 'battle': 982,\n",
       " 'potential': 983,\n",
       " 'create': 984,\n",
       " 'break': 985,\n",
       " 'bill': 986,\n",
       " 'pay': 987,\n",
       " 'masterpiece': 988,\n",
       " 'gay': 989,\n",
       " 'return': 990,\n",
       " 'political': 991,\n",
       " 'dumb': 992,\n",
       " 'fails': 993,\n",
       " 'fighting': 994,\n",
       " 'various': 995,\n",
       " 'era': 996,\n",
       " 'portrayed': 997,\n",
       " 'co': 998,\n",
       " 'cop': 999,\n",
       " 'secret': 1000,\n",
       " ...}"
      ]
     },
     "execution_count": 16,
     "metadata": {},
     "output_type": "execute_result"
    }
   ],
   "source": [
    "word_index"
   ]
  },
  {
   "cell_type": "code",
   "execution_count": 59,
   "metadata": {
    "id": "nH-C2-SFnvBc"
   },
   "outputs": [
    {
     "name": "stdout",
     "output_type": "stream",
     "text": [
      "데이터 텐서의 크기: (25000, 100)\n",
      "데이터 텐서의 크기: (25000,)\n"
     ]
    }
   ],
   "source": [
    "data = pad_sequences(sequences, maxlen = maxlen)\n",
    "labels = np.asarray(labels)\n",
    "\n",
    "print('데이터 텐서의 크기:', data.shape)\n",
    "print('데이터 텐서의 크기:', labels.shape)"
   ]
  },
  {
   "cell_type": "code",
   "execution_count": 60,
   "metadata": {},
   "outputs": [
    {
     "data": {
      "text/plain": [
       "array([  34,   44, 7576, 1414,   15,    3, 4252,  514,   43,   16,    3,\n",
       "        633,  133,   12,    6,    3, 1301,  459,    4, 1751,  209,    3,\n",
       "       7693,  308,    6,  676,   80,   32, 2137, 1110, 3008,   31,    1,\n",
       "        929,    4,   42, 5120,  469,    9, 2665, 1751,    1,  223,   55,\n",
       "         16,   54,  828, 1318,  847,  228,    9,   40,   96,  122, 1484,\n",
       "         57,  145,   36,    1,  996,  141,   27,  676,  122,    1,  411,\n",
       "         59,   94, 2278,  303,  772,    5,    3,  837,   20,    3, 1755,\n",
       "        646,   42,  125,   71,   22,  235,  101,   16,   46,   49,  624,\n",
       "         31,  702,   84,  702,  378, 3493,    2, 8422,   67,   27,  107,\n",
       "       3348])"
      ]
     },
     "execution_count": 60,
     "metadata": {},
     "output_type": "execute_result"
    }
   ],
   "source": [
    "data[0]"
   ]
  },
  {
   "cell_type": "code",
   "execution_count": 68,
   "metadata": {
    "id": "oAFwdNbEoBR2"
   },
   "outputs": [],
   "source": [
    "indices = np.arange(data.shape[0])\n",
    "np.random.shuffle(indices)\n",
    "\n",
    "data = data[indices]\n",
    "labels = labels[indices]\n",
    "\n",
    "x_train = data[:training_samples]\n",
    "y_train = labels[:training_samples]\n",
    "\n",
    "x_val = data[training_samples: training_samples + validation_samples]\n",
    "y_val = labels[training_samples: training_samples + validation_samples]"
   ]
  },
  {
   "cell_type": "code",
   "execution_count": 71,
   "metadata": {},
   "outputs": [
    {
     "data": {
      "text/plain": [
       "((200, 100), (200,), (10000, 100), (10000,))"
      ]
     },
     "execution_count": 71,
     "metadata": {},
     "output_type": "execute_result"
    }
   ],
   "source": [
    "x_train.shape, y_train.shape, x_val.shape, y_val.shape"
   ]
  },
  {
   "cell_type": "markdown",
   "metadata": {
    "id": "-FRymTIgnrLr"
   },
   "source": [
    "### 임베딩 전처리"
   ]
  },
  {
   "cell_type": "code",
   "execution_count": 25,
   "metadata": {
    "id": "2zyKo12xnuU0"
   },
   "outputs": [
    {
     "name": "stdout",
     "output_type": "stream",
     "text": [
      "400000개의 단어 벡터를 찾았습니다.\n"
     ]
    }
   ],
   "source": [
    "# 위키피디아를 사용하여 사전에 계산된 임베딩 내려받고, 파일ㅇ르 파싱하여 단어와 이에 상응하는 벡터 표현을 매핑하는 인덱스 만들기\n",
    "glove_dir = '../필요데이터/'\n",
    "\n",
    "embedding_index = {}\n",
    "\n",
    "f = open(os.path.join(glove_dir, 'glove.6B.100d.txt'), encoding = 'utf8')\n",
    "for line in f:\n",
    "    values = line.split()\n",
    "    word = values[0]\n",
    "    coefs = np.asarray(values[1:], dtype = 'float32')\n",
    "    embedding_index[word] = coefs\n",
    "f.close()\n",
    "\n",
    "print(f'{len(embedding_index)}개의 단어 벡터를 찾았습니다.')"
   ]
  },
  {
   "cell_type": "code",
   "execution_count": 72,
   "metadata": {
    "id": "n7kmcIYsnuPb"
   },
   "outputs": [],
   "source": [
    "# embedding 층에 주입할 수 있도록 임베딩 행렬 만들기\n",
    "# (max_words, embedding_dim) 크기어야 함\n",
    "\n",
    "embedding_dim = 100\n",
    "\n",
    "embedding_matrix = np.zeros((max_words, embedding_dim))\n",
    "for word, i in word_index.items():\n",
    "    if i < max_words:\n",
    "        embedding_vector = embedding_index.get(word)\n",
    "        if embedding_vector is not None:\n",
    "            embedding_matrix[i] = embedding_vector   # 임베딩 인덱스에 없는 단어는 모두 0이 됨"
   ]
  },
  {
   "cell_type": "code",
   "execution_count": 73,
   "metadata": {},
   "outputs": [
    {
     "data": {
      "text/plain": [
       "(10000, 100)"
      ]
     },
     "execution_count": 73,
     "metadata": {},
     "output_type": "execute_result"
    }
   ],
   "source": [
    "embedding_matrix.shape"
   ]
  },
  {
   "cell_type": "code",
   "execution_count": 74,
   "metadata": {},
   "outputs": [
    {
     "data": {
      "text/plain": [
       "(array([0., 0., 0., 0., 0., 0., 0., 0., 0., 0., 0., 0., 0., 0., 0., 0., 0.,\n",
       "        0., 0., 0., 0., 0., 0., 0., 0., 0., 0., 0., 0., 0., 0., 0., 0., 0.,\n",
       "        0., 0., 0., 0., 0., 0., 0., 0., 0., 0., 0., 0., 0., 0., 0., 0., 0.,\n",
       "        0., 0., 0., 0., 0., 0., 0., 0., 0., 0., 0., 0., 0., 0., 0., 0., 0.,\n",
       "        0., 0., 0., 0., 0., 0., 0., 0., 0., 0., 0., 0., 0., 0., 0., 0., 0.,\n",
       "        0., 0., 0., 0., 0., 0., 0., 0., 0., 0., 0., 0., 0., 0., 0.]),\n",
       " array([-0.038194  , -0.24487001,  0.72812003, -0.39961001,  0.083172  ,\n",
       "         0.043953  , -0.39140999,  0.3344    , -0.57545   ,  0.087459  ,\n",
       "         0.28786999, -0.06731   ,  0.30906001, -0.26383999, -0.13231   ,\n",
       "        -0.20757   ,  0.33395001, -0.33848   , -0.31742999, -0.48335999,\n",
       "         0.1464    , -0.37303999,  0.34577   ,  0.052041  ,  0.44946   ,\n",
       "        -0.46970999,  0.02628   , -0.54154998, -0.15518001, -0.14106999,\n",
       "        -0.039722  ,  0.28277001,  0.14393   ,  0.23464   , -0.31020999,\n",
       "         0.086173  ,  0.20397   ,  0.52623999,  0.17163999, -0.082378  ,\n",
       "        -0.71787   , -0.41531   ,  0.20334999, -0.12763   ,  0.41367   ,\n",
       "         0.55186999,  0.57907999, -0.33476999, -0.36559001, -0.54856998,\n",
       "        -0.062892  ,  0.26583999,  0.30204999,  0.99774998, -0.80480999,\n",
       "        -3.0243001 ,  0.01254   , -0.36941999,  2.21670008,  0.72201002,\n",
       "        -0.24978   ,  0.92136002,  0.034514  ,  0.46744999,  1.10790002,\n",
       "        -0.19358   , -0.074575  ,  0.23353   , -0.052062  , -0.22044   ,\n",
       "         0.057162  , -0.15806   , -0.30798   , -0.41624999,  0.37972   ,\n",
       "         0.15006   , -0.53211999, -0.20550001, -1.25259995,  0.071624  ,\n",
       "         0.70564997,  0.49744001, -0.42063001,  0.26148   , -1.53799999,\n",
       "        -0.30223   , -0.073438  , -0.28312001,  0.37103999, -0.25217   ,\n",
       "         0.016215  , -0.017099  , -0.38984001,  0.87423998, -0.72569001,\n",
       "        -0.51058   , -0.52028   , -0.1459    ,  0.82779998,  0.27061999]))"
      ]
     },
     "execution_count": 74,
     "metadata": {},
     "output_type": "execute_result"
    }
   ],
   "source": [
    "embedding_matrix[0], embedding_matrix[1]"
   ]
  },
  {
   "cell_type": "markdown",
   "metadata": {
    "id": "LNpTsHDtnuKs"
   },
   "source": [
    "### 모델 생성"
   ]
  },
  {
   "cell_type": "code",
   "execution_count": 39,
   "metadata": {
    "id": "V0s2CX2knuEd"
   },
   "outputs": [],
   "source": [
    "from keras.models import Sequential\n",
    "from keras.layers import Dense, Flatten, Embedding"
   ]
  },
  {
   "cell_type": "code",
   "execution_count": 47,
   "metadata": {},
   "outputs": [
    {
     "data": {
      "text/plain": [
       "(10000, 100, 100)"
      ]
     },
     "execution_count": 47,
     "metadata": {},
     "output_type": "execute_result"
    }
   ],
   "source": [
    "(max_words, embedding_dim, maxlen)"
   ]
  },
  {
   "cell_type": "code",
   "execution_count": 80,
   "metadata": {
    "id": "PvDzgT9ent_j",
    "scrolled": true
   },
   "outputs": [
    {
     "name": "stdout",
     "output_type": "stream",
     "text": [
      "Model: \"sequential_2\"\n",
      "_________________________________________________________________\n",
      "Layer (type)                 Output Shape              Param #   \n",
      "=================================================================\n",
      "embedding_2 (Embedding)      (None, 100, 100)          1000000   \n",
      "_________________________________________________________________\n",
      "flatten_2 (Flatten)          (None, 10000)             0         \n",
      "_________________________________________________________________\n",
      "dense_4 (Dense)              (None, 32)                320032    \n",
      "_________________________________________________________________\n",
      "dense_5 (Dense)              (None, 1)                 33        \n",
      "=================================================================\n",
      "Total params: 1,320,065\n",
      "Trainable params: 1,320,065\n",
      "Non-trainable params: 0\n",
      "_________________________________________________________________\n"
     ]
    }
   ],
   "source": [
    "model = Sequential()\n",
    "\n",
    "model.add(Embedding(max_words, embedding_dim, input_length = maxlen))\n",
    "model.add(Flatten())\n",
    "model.add(Dense(32, activation = 'relu'))\n",
    "model.add(Dense(1, activation = 'sigmoid'))\n",
    "\n",
    "model.summary()"
   ]
  },
  {
   "cell_type": "markdown",
   "metadata": {},
   "source": [
    "### 모델에 GloVe 임베딩 로드하기"
   ]
  },
  {
   "cell_type": "code",
   "execution_count": 81,
   "metadata": {},
   "outputs": [],
   "source": [
    "model.layers[0].set_weights([embedding_matrix])\n",
    "model.layers[0].trainable = False  # 가중치 동결"
   ]
  },
  {
   "cell_type": "markdown",
   "metadata": {
    "id": "TBIwQrPHnt6P"
   },
   "source": [
    "### 학습"
   ]
  },
  {
   "cell_type": "code",
   "execution_count": 82,
   "metadata": {},
   "outputs": [
    {
     "data": {
      "text/plain": [
       "((200, 100), (200,), (10000, 100), (10000,))"
      ]
     },
     "execution_count": 82,
     "metadata": {},
     "output_type": "execute_result"
    }
   ],
   "source": [
    "x_train.shape, y_train.shape, x_val.shape, y_val.shape"
   ]
  },
  {
   "cell_type": "code",
   "execution_count": 83,
   "metadata": {
    "id": "qRpgAdlwnt2E"
   },
   "outputs": [
    {
     "name": "stdout",
     "output_type": "stream",
     "text": [
      "Epoch 1/10\n",
      "7/7 [==============================] - 1s 167ms/step - loss: 1.5759 - acc: 0.4950 - val_loss: 0.9966 - val_acc: 0.4995\n",
      "Epoch 2/10\n",
      "7/7 [==============================] - 1s 112ms/step - loss: 0.7458 - acc: 0.6800 - val_loss: 0.6884 - val_acc: 0.5711\n",
      "Epoch 3/10\n",
      "7/7 [==============================] - 1s 110ms/step - loss: 0.4587 - acc: 0.8350 - val_loss: 1.2068 - val_acc: 0.5025\n",
      "Epoch 4/10\n",
      "7/7 [==============================] - 1s 95ms/step - loss: 0.2726 - acc: 0.8650 - val_loss: 0.8082 - val_acc: 0.5407\n",
      "Epoch 5/10\n",
      "7/7 [==============================] - 1s 101ms/step - loss: 0.1609 - acc: 0.9700 - val_loss: 0.7845 - val_acc: 0.5614\n",
      "Epoch 6/10\n",
      "7/7 [==============================] - 1s 109ms/step - loss: 0.3132 - acc: 0.8600 - val_loss: 1.3088 - val_acc: 0.5099\n",
      "Epoch 7/10\n",
      "7/7 [==============================] - 1s 112ms/step - loss: 0.1068 - acc: 0.9700 - val_loss: 0.7395 - val_acc: 0.5800\n",
      "Epoch 8/10\n",
      "7/7 [==============================] - 1s 100ms/step - loss: 0.0372 - acc: 1.0000 - val_loss: 0.8054 - val_acc: 0.5760\n",
      "Epoch 9/10\n",
      "7/7 [==============================] - 1s 95ms/step - loss: 0.0268 - acc: 1.0000 - val_loss: 0.7831 - val_acc: 0.5761\n",
      "Epoch 10/10\n",
      "7/7 [==============================] - 1s 104ms/step - loss: 0.0174 - acc: 1.0000 - val_loss: 0.8467 - val_acc: 0.5724\n"
     ]
    }
   ],
   "source": [
    "model.compile(optimizer = 'rmsprop',\n",
    "              loss = 'binary_crossentropy',\n",
    "              metrics = ['acc'])\n",
    "\n",
    "\n",
    "history = model.fit(x_train, y_train,\n",
    "                    epochs = 10,\n",
    "                    batch_size = 32,\n",
    "                    validation_data = (x_val, y_val))\n",
    "\n",
    "model.save('./save_model/pre_trained_glove_model.h5')"
   ]
  },
  {
   "cell_type": "markdown",
   "metadata": {},
   "source": [
    "### 시각화"
   ]
  },
  {
   "cell_type": "code",
   "execution_count": 85,
   "metadata": {},
   "outputs": [],
   "source": [
    "import matplotlib.pyplot as plt"
   ]
  },
  {
   "cell_type": "code",
   "execution_count": 87,
   "metadata": {},
   "outputs": [
    {
     "data": {
      "image/png": "[encoded data removed]",
      "text/plain": [
       "<Figure size 1080x360 with 2 Axes>"
      ]
     },
     "metadata": {
      "needs_background": "light"
     },
     "output_type": "display_data"
    }
   ],
   "source": [
    "acc = history.history['acc']\n",
    "val_acc = history.history['val_acc']\n",
    "loss = history.history['loss']\n",
    "val_loss = history.history['val_loss']\n",
    "\n",
    "score = ['acc', 'loss']\n",
    "val_score = [f'val_{i}' for i in score]\n",
    "\n",
    "epochs = range(1, 11)\n",
    "\n",
    "plt.figure(figsize = (15, 5))\n",
    "for i in range(2):\n",
    "    plt.subplot(1, 2, i+1)\n",
    "    plt.plot(epochs, eval(score[i]), 'bo', label = score[i])\n",
    "    plt.plot(epochs, eval(val_score[i]), 'b', label = val_score[i])\n",
    "    plt.legend()\n",
    "plt.show()"
   ]
  },
  {
   "cell_type": "markdown",
   "metadata": {},
   "source": [
    "- 이 모델은 과대적합이 굉장히 빠르게 됨\n",
    "- 훈련 샘플 수가 작기 때문에 놀라운 일은 아님\n",
    "- 같은 이유로 검증 정확도와 학습 정확도의 차이가 크게 나타남\n",
    "<br><br>\n",
    "- 사전 훈련된 단어 임베딩을 사용하지 않거나 임베딩 층을 동결하지 않고 같은 모델을 훈련할 수 있음\n",
    "    - 이런 경우 해당 작업에 특화된 입력 토큰의 임베딩을 학습할 것\n",
    "    - 데이터가 풍부하게 있다면 사전 훈련된 단어 임베딩보다 일반적으로 훨씬 성능이 높음\n",
    "    - 여기서는 샘플 수가 적어서 높게나오지 않을 가능성이 크지만 한번 해보겠음\n",
    "   "
   ]
  },
  {
   "cell_type": "markdown",
   "metadata": {},
   "source": [
    "## 사전 훈련된 임베딩을 사용하지 않은 모델 생성"
   ]
  },
  {
   "cell_type": "markdown",
   "metadata": {},
   "source": [
    "### 모델 생성"
   ]
  },
  {
   "cell_type": "code",
   "execution_count": 89,
   "metadata": {},
   "outputs": [
    {
     "name": "stdout",
     "output_type": "stream",
     "text": [
      "Model: \"sequential_3\"\n",
      "_________________________________________________________________\n",
      "Layer (type)                 Output Shape              Param #   \n",
      "=================================================================\n",
      "embedding_3 (Embedding)      (None, 100, 100)          1000000   \n",
      "_________________________________________________________________\n",
      "flatten_3 (Flatten)          (None, 10000)             0         \n",
      "_________________________________________________________________\n",
      "dense_6 (Dense)              (None, 32)                320032    \n",
      "_________________________________________________________________\n",
      "dense_7 (Dense)              (None, 1)                 33        \n",
      "=================================================================\n",
      "Total params: 1,320,065\n",
      "Trainable params: 1,320,065\n",
      "Non-trainable params: 0\n",
      "_________________________________________________________________\n"
     ]
    }
   ],
   "source": [
    "model = Sequential()\n",
    "\n",
    "model.add(Embedding(max_words, embedding_dim, input_length = maxlen))\n",
    "model.add(Flatten())\n",
    "model.add(Dense(32, activation = 'relu'))\n",
    "model.add(Dense(1, activation = 'sigmoid'))\n",
    "\n",
    "model.summary()"
   ]
  },
  {
   "cell_type": "markdown",
   "metadata": {},
   "source": [
    "### 학습"
   ]
  },
  {
   "cell_type": "code",
   "execution_count": 90,
   "metadata": {},
   "outputs": [
    {
     "name": "stdout",
     "output_type": "stream",
     "text": [
      "Epoch 1/10\n",
      "7/7 [==============================] - 1s 171ms/step - loss: 0.7012 - acc: 0.5000 - val_loss: 0.6922 - val_acc: 0.5150\n",
      "Epoch 2/10\n",
      "7/7 [==============================] - 1s 124ms/step - loss: 0.4923 - acc: 1.0000 - val_loss: 0.6974 - val_acc: 0.5138\n",
      "Epoch 3/10\n",
      "7/7 [==============================] - 1s 101ms/step - loss: 0.2667 - acc: 1.0000 - val_loss: 0.6981 - val_acc: 0.5165\n",
      "Epoch 4/10\n",
      "7/7 [==============================] - 1s 114ms/step - loss: 0.1097 - acc: 1.0000 - val_loss: 0.7062 - val_acc: 0.5223\n",
      "Epoch 5/10\n",
      "7/7 [==============================] - 1s 113ms/step - loss: 0.0502 - acc: 1.0000 - val_loss: 0.7077 - val_acc: 0.5256\n",
      "Epoch 6/10\n",
      "7/7 [==============================] - 1s 114ms/step - loss: 0.0256 - acc: 1.0000 - val_loss: 0.7150 - val_acc: 0.5270\n",
      "Epoch 7/10\n",
      "7/7 [==============================] - 1s 106ms/step - loss: 0.0142 - acc: 1.0000 - val_loss: 0.7142 - val_acc: 0.5267\n",
      "Epoch 8/10\n",
      "7/7 [==============================] - 1s 112ms/step - loss: 0.0082 - acc: 1.0000 - val_loss: 0.7221 - val_acc: 0.5293\n",
      "Epoch 9/10\n",
      "7/7 [==============================] - 1s 114ms/step - loss: 0.0050 - acc: 1.0000 - val_loss: 0.7300 - val_acc: 0.5274\n",
      "Epoch 10/10\n",
      "7/7 [==============================] - 1s 117ms/step - loss: 0.0031 - acc: 1.0000 - val_loss: 0.7407 - val_acc: 0.5273\n"
     ]
    }
   ],
   "source": [
    "model.compile(optimizer = 'rmsprop',\n",
    "              loss = 'binary_crossentropy',\n",
    "              metrics = ['acc'])\n",
    "\n",
    "\n",
    "history = model.fit(x_train, y_train,\n",
    "                    epochs = 10,\n",
    "                    batch_size = 32,\n",
    "                    validation_data = (x_val, y_val))\n",
    "\n",
    "model.save('./save_model/pre_trained_glove_model.h5')"
   ]
  },
  {
   "cell_type": "markdown",
   "metadata": {},
   "source": [
    "### 시각화"
   ]
  },
  {
   "cell_type": "code",
   "execution_count": 91,
   "metadata": {
    "scrolled": true
   },
   "outputs": [
    {
     "data": {
      "image/png": "[encoded data removed]",
      "text/plain": [
       "<Figure size 1080x360 with 2 Axes>"
      ]
     },
     "metadata": {
      "needs_background": "light"
     },
     "output_type": "display_data"
    }
   ],
   "source": [
    "acc = history.history['acc']\n",
    "val_acc = history.history['val_acc']\n",
    "loss = history.history['loss']\n",
    "val_loss = history.history['val_loss']\n",
    "\n",
    "score = ['acc', 'loss']\n",
    "val_score = [f'val_{i}' for i in score]\n",
    "\n",
    "epochs = range(1, 11)\n",
    "\n",
    "plt.figure(figsize = (15, 5))\n",
    "for i in range(2):\n",
    "    plt.subplot(1, 2, i+1)\n",
    "    plt.plot(epochs, eval(score[i]), 'bo', label = score[i])\n",
    "    plt.plot(epochs, eval(val_score[i]), 'b', label = val_score[i])\n",
    "    plt.legend()\n",
    "plt.show()"
   ]
  },
  {
   "cell_type": "markdown",
   "metadata": {},
   "source": [
    "- 훈련 하나마나인 결과\n",
    "- 여기서는 사전 훈련된 단어 임베딩을 사용하는 것이 임베딩을 함께 훈련하는 것보다 나음\n",
    "- 훈련 샘플 수를 늘려서 해보겠음"
   ]
  },
  {
   "cell_type": "markdown",
   "metadata": {},
   "source": [
    "## 샘플 수를 늘린 후 사전 훈련된 임베딩 층을 사용해서 모델 만들기"
   ]
  },
  {
   "cell_type": "code",
   "execution_count": 92,
   "metadata": {},
   "outputs": [],
   "source": [
    "indices = np.arange(data.shape[0])\n",
    "np.random.shuffle(indices)\n",
    "\n",
    "data = data[indices]\n",
    "labels = labels[indices]\n",
    "\n",
    "x_train = data[:10000]\n",
    "y_train = labels[:10000]\n",
    "\n",
    "x_val = data[10000: 10000 + validation_samples]\n",
    "y_val = labels[10000: 10000 + validation_samples]"
   ]
  },
  {
   "cell_type": "code",
   "execution_count": 94,
   "metadata": {},
   "outputs": [
    {
     "data": {
      "text/plain": [
       "((10000, 100), (10000, 100))"
      ]
     },
     "execution_count": 94,
     "metadata": {},
     "output_type": "execute_result"
    }
   ],
   "source": [
    "x_train.shape, x_val.shape"
   ]
  },
  {
   "cell_type": "markdown",
   "metadata": {},
   "source": [
    "### 모델 생성"
   ]
  },
  {
   "cell_type": "code",
   "execution_count": 95,
   "metadata": {
    "id": "PvDzgT9ent_j",
    "scrolled": true
   },
   "outputs": [
    {
     "name": "stdout",
     "output_type": "stream",
     "text": [
      "Model: \"sequential_5\"\n",
      "_________________________________________________________________\n",
      "Layer (type)                 Output Shape              Param #   \n",
      "=================================================================\n",
      "embedding_5 (Embedding)      (None, 100, 100)          1000000   \n",
      "_________________________________________________________________\n",
      "flatten_5 (Flatten)          (None, 10000)             0         \n",
      "_________________________________________________________________\n",
      "dense_10 (Dense)             (None, 32)                320032    \n",
      "_________________________________________________________________\n",
      "dense_11 (Dense)             (None, 1)                 33        \n",
      "=================================================================\n",
      "Total params: 1,320,065\n",
      "Trainable params: 1,320,065\n",
      "Non-trainable params: 0\n",
      "_________________________________________________________________\n"
     ]
    }
   ],
   "source": [
    "model = Sequential()\n",
    "\n",
    "model.add(Embedding(max_words, embedding_dim, input_length = maxlen))\n",
    "model.add(Flatten())\n",
    "model.add(Dense(32, activation = 'relu'))\n",
    "model.add(Dense(1, activation = 'sigmoid'))\n",
    "\n",
    "model.summary()"
   ]
  },
  {
   "cell_type": "markdown",
   "metadata": {},
   "source": [
    "### 모델에 GloVe 임베딩 로드하기"
   ]
  },
  {
   "cell_type": "code",
   "execution_count": 96,
   "metadata": {},
   "outputs": [],
   "source": [
    "model.layers[0].set_weights([embedding_matrix])\n",
    "model.layers[0].trainable = False  # 가중치 동결"
   ]
  },
  {
   "cell_type": "markdown",
   "metadata": {
    "id": "TBIwQrPHnt6P"
   },
   "source": [
    "### 학습"
   ]
  },
  {
   "cell_type": "code",
   "execution_count": 97,
   "metadata": {},
   "outputs": [
    {
     "data": {
      "text/plain": [
       "((10000, 100), (10000,), (10000, 100), (10000,))"
      ]
     },
     "execution_count": 97,
     "metadata": {},
     "output_type": "execute_result"
    }
   ],
   "source": [
    "x_train.shape, y_train.shape, x_val.shape, y_val.shape"
   ]
  },
  {
   "cell_type": "code",
   "execution_count": 99,
   "metadata": {
    "id": "qRpgAdlwnt2E"
   },
   "outputs": [
    {
     "name": "stdout",
     "output_type": "stream",
     "text": [
      "Epoch 1/10\n",
      "313/313 [==============================] - 4s 13ms/step - loss: 0.5147 - acc: 0.7469 - val_loss: 0.5744 - val_acc: 0.7054\n",
      "Epoch 2/10\n",
      "313/313 [==============================] - 4s 12ms/step - loss: 0.4603 - acc: 0.7826 - val_loss: 0.5869 - val_acc: 0.6994\n",
      "Epoch 3/10\n",
      "313/313 [==============================] - 4s 11ms/step - loss: 0.3788 - acc: 0.8281 - val_loss: 0.6082 - val_acc: 0.7032\n",
      "Epoch 4/10\n",
      "313/313 [==============================] - 4s 11ms/step - loss: 0.3264 - acc: 0.8579 - val_loss: 0.7399 - val_acc: 0.6854\n",
      "Epoch 5/10\n",
      "313/313 [==============================] - 3s 11ms/step - loss: 0.2699 - acc: 0.8855 - val_loss: 0.7949 - val_acc: 0.6625\n",
      "Epoch 6/10\n",
      "313/313 [==============================] - 3s 11ms/step - loss: 0.2148 - acc: 0.9140 - val_loss: 0.7687 - val_acc: 0.6908\n",
      "Epoch 7/10\n",
      "313/313 [==============================] - 3s 11ms/step - loss: 0.1680 - acc: 0.9359 - val_loss: 0.8575 - val_acc: 0.6935\n",
      "Epoch 8/10\n",
      "313/313 [==============================] - 3s 11ms/step - loss: 0.1300 - acc: 0.9533 - val_loss: 0.9248 - val_acc: 0.6889\n",
      "Epoch 9/10\n",
      "313/313 [==============================] - 4s 12ms/step - loss: 0.0912 - acc: 0.9688 - val_loss: 1.0974 - val_acc: 0.6681\n",
      "Epoch 10/10\n",
      "313/313 [==============================] - 3s 11ms/step - loss: 0.0687 - acc: 0.9793 - val_loss: 1.3385 - val_acc: 0.6576\n"
     ]
    }
   ],
   "source": [
    "model.compile(optimizer = 'rmsprop',\n",
    "              loss = 'binary_crossentropy',\n",
    "              metrics = ['acc'])\n",
    "\n",
    "\n",
    "history = model.fit(x_train, y_train,\n",
    "                    epochs = 10,\n",
    "                    batch_size = 32,\n",
    "                    validation_data = (x_val, y_val))\n",
    "\n",
    "model.save('./save_model/pre_trained_glove_model2.h5')"
   ]
  },
  {
   "cell_type": "markdown",
   "metadata": {},
   "source": [
    "### 시각화"
   ]
  },
  {
   "cell_type": "code",
   "execution_count": 100,
   "metadata": {},
   "outputs": [
    {
     "data": {
      "image/png": "[encoded data removed]",
      "text/plain": [
       "<Figure size 1080x360 with 2 Axes>"
      ]
     },
     "metadata": {
      "needs_background": "light"
     },
     "output_type": "display_data"
    }
   ],
   "source": [
    "acc = history.history['acc']\n",
    "val_acc = history.history['val_acc']\n",
    "loss = history.history['loss']\n",
    "val_loss = history.history['val_loss']\n",
    "\n",
    "score = ['acc', 'loss']\n",
    "val_score = [f'val_{i}' for i in score]\n",
    "\n",
    "epochs = range(1, 11)\n",
    "\n",
    "plt.figure(figsize = (15, 5))\n",
    "for i in range(2):\n",
    "    plt.subplot(1, 2, i+1)\n",
    "    plt.plot(epochs, eval(score[i]), 'bo', label = score[i])\n",
    "    plt.plot(epochs, eval(val_score[i]), 'b', label = val_score[i])\n",
    "    plt.legend()\n",
    "plt.show()"
   ]
  },
  {
   "cell_type": "markdown",
   "metadata": {},
   "source": [
    "### 테스트"
   ]
  },
  {
   "cell_type": "code",
   "execution_count": 101,
   "metadata": {
    "id": "3muteEzsPPco"
   },
   "outputs": [],
   "source": [
    "test_dir = os.path.join(base_dir, 'test')\n",
    "\n",
    "\n",
    "labels = []\n",
    "texts = []\n",
    "\n",
    "for label_type in ['neg','pos']:\n",
    "    dir_name = os.path.join(test_dir, label_type)\n",
    "    \n",
    "    for fname in sorted(os.listdir(dir_name)):\n",
    "        if fname[-4:] == '.txt':\n",
    "            f = open(os.path.join(dir_name, fname), encoding = 'utf8')\n",
    "            texts.append(f.read())\n",
    "            f.close()\n",
    "            if label_type == 'neg':\n",
    "                labels.append(0)\n",
    "            else:\n",
    "                labels.append(1)\n",
    "\n",
    "                \n",
    "# 토큰화\n",
    "sequences = tokenizer.texts_to_sequences(texts)\n",
    "\n",
    "# 모델 입력 shape 맞추기\n",
    "x_test = pad_sequences(sequences, maxlen = maxlen)\n",
    "y_test = np.asarray(labels)"
   ]
  },
  {
   "cell_type": "code",
   "execution_count": 103,
   "metadata": {},
   "outputs": [
    {
     "name": "stdout",
     "output_type": "stream",
     "text": [
      "782/782 [==============================] - 2s 3ms/step - loss: 1.3015 - acc: 0.6728\n",
      "loss: 1.3015\n",
      "acc: 0.6728\n"
     ]
    }
   ],
   "source": [
    "loss, acc = model.evaluate(x_test, y_test)\n",
    "\n",
    "print(f'loss: {loss:.4f}\\nacc: {acc:.4f}')"
   ]
  },
  {
   "cell_type": "markdown",
   "metadata": {},
   "source": [
    "- 학습 데이터를 50배정도 늘렸다만 정확도나 손실이드라마틱하게 좋아지진 않음"
   ]
  }
 ],
 "metadata": {
  "accelerator": "GPU",
  "colab": {
   "authorship_tag": "ABX9TyMsApFVSA9ty2HTKTtQoUFG",
   "provenance": []
  },
  "gpuClass": "standard",
  "kernelspec": {
   "display_name": "Python 3 (ipykernel)",
   "language": "python",
   "name": "python3"
  },
  "language_info": {
   "codemirror_mode": {
    "name": "ipython",
    "version": 3
   },
   "file_extension": ".py",
   "mimetype": "text/x-python",
   "name": "python",
   "nbconvert_exporter": "python",
   "pygments_lexer": "ipython3",
   "version": "3.8.13"
  },
  "toc": {
   "base_numbering": 1,
   "nav_menu": {},
   "number_sections": true,
   "sideBar": true,
   "skip_h1_title": false,
   "title_cell": "Table of Contents",
   "title_sidebar": "Contents",
   "toc_cell": false,
   "toc_position": {
    "height": "calc(100% - 180px)",
    "left": "10px",
    "top": "150px",
    "width": "307.2px"
   },
   "toc_section_display": true,
   "toc_window_display": false
  }
 },
 "nbformat": 4,
 "nbformat_minor": 1
}
