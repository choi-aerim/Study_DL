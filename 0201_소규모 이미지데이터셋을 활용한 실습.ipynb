{
 "cells": [
  {
   "cell_type": "markdown",
   "id": "0b257821",
   "metadata": {},
   "source": [
    "# 실습: kaggle 강아지/고양이 이미지 데이터 활용"
   ]
  },
  {
   "cell_type": "markdown",
   "id": "de066ec2",
   "metadata": {},
   "source": [
    "## 데이터 저장하기"
   ]
  },
  {
   "cell_type": "code",
   "execution_count": 1,
   "id": "1b17114e",
   "metadata": {},
   "outputs": [],
   "source": [
    "import os, shutil\n",
    "\n",
    "original_dataset_dir = '../필요데이터/train'\n",
    "\n",
    "base_dir = '../필요데이터/cats_and_dogs_small'\n",
    "os.mkdir(base_dir)\n",
    "\n",
    "train_dir = os.path.join(base_dir, 'train')\n",
    "os.mkdir(train_dir)\n",
    "\n",
    "validation_dir = os.path.join(base_dir, 'validation')\n",
    "os.mkdir(validation_dir)\n",
    "\n",
    "test_dir = os.path.join(base_dir, 'test')\n",
    "os.mkdir(test_dir)"
   ]
  },
  {
   "cell_type": "code",
   "execution_count": 4,
   "id": "1f055257",
   "metadata": {},
   "outputs": [],
   "source": [
    "train_cats_dir = os.path.join(train_dir, 'cats')\n",
    "os.mkdir(train_cats_dir)\n",
    "\n",
    "train_dogs_dir = os.path.join(train_dir, 'dogs')\n",
    "os.mkdir(train_dogs_dir)\n",
    "\n",
    "\n",
    "\n",
    "validation_cats_dir = os.path.join(validation_dir, 'cats')\n",
    "os.mkdir(validation_cats_dir)\n",
    "\n",
    "validation_dogs_dir = os.path.join(validation_dir, 'dogs')\n",
    "os.mkdir(validation_dogs_dir)\n",
    "\n",
    "\n",
    "\n",
    "test_cats_dir = os.path.join(test_dir, 'cats')\n",
    "os.mkdir(test_cats_dir)\n",
    "\n",
    "test_dogs_dir = os.path.join(test_dir, 'dogs')\n",
    "os.mkdir(test_dogs_dir)"
   ]
  },
  {
   "cell_type": "code",
   "execution_count": 13,
   "id": "03bb6c6e",
   "metadata": {},
   "outputs": [],
   "source": [
    "# fnames = [f'cat.{i}.jpg' for i in range(1000)]\n",
    "# for fname in fnames:\n",
    "#     src = os.path.join(original_dataset_dir, fname)\n",
    "#     dst = os.path.join(train_cats_dir, fname)\n",
    "#     shutil.copyfile(src,dst)\n",
    "\n",
    "fnames = [f'cat.{i}.jpg' for i in range(1000, 1500)]\n",
    "for fname in fnames:\n",
    "    src = os.path.join(original_dataset_dir, fname)\n",
    "    dst = os.path.join(validation_cats_dir, fname)\n",
    "    shutil.copyfile(src,dst)\n",
    "\n",
    "fnames = [f'cat.{i}.jpg' for i in range(1500, 2000)]  \n",
    "for fname in fnames:\n",
    "    src = os.path.join(original_dataset_dir, fname)\n",
    "    dst = os.path.join(test_cats_dir, fname)\n",
    "    shutil.copyfile(src,dst)\n",
    "    \n",
    "    \n",
    "    \n",
    "    \n",
    "# fnames = [f'dog.{i}.jpg' for i in range(1000)]\n",
    "# for fname in fnames:\n",
    "#     src = os.path.join(original_dataset_dir, fname)\n",
    "#     dst = os.path.join(train_dogs_dir, fname)\n",
    "#     shutil.copyfile(src,dst)\n",
    "\n",
    "fnames = [f'cat.{i}.jpg' for i in range(1000, 1500)]\n",
    "for fname in fnames:\n",
    "    src = os.path.join(original_dataset_dir, fname)\n",
    "    dst = os.path.join(validation_dogs_dir, fname)\n",
    "    shutil.copyfile(src,dst)\n",
    "\n",
    "fnames = [f'cat.{i}.jpg' for i in range(1500, 2000)]    \n",
    "for fname in fnames:\n",
    "    src = os.path.join(original_dataset_dir, fname)\n",
    "    dst = os.path.join(test_dogs_dir, fname)\n",
    "    shutil.copyfile(src,dst)"
   ]
  },
  {
   "cell_type": "code",
   "execution_count": 14,
   "id": "e35564fd",
   "metadata": {},
   "outputs": [
    {
     "name": "stdout",
     "output_type": "stream",
     "text": [
      "훈련용 고양이 이미지 전체 개수: 1000\n",
      "검증용 고양이 이미지 전체 개수: 500\n",
      "테스트용 고양이 이미지 전체 개수: 500\n",
      "\n",
      "훈련용 강아지 이미지 전체 개수: 1000\n",
      "검증용 강아지 이미지 전체 개수: 500\n",
      "테스트용 강아지 이미지 전체 개수: 561\n"
     ]
    }
   ],
   "source": [
    "# 잘 저장됐는지 확인\n",
    "\n",
    "print('훈련용 고양이 이미지 전체 개수:', len(os.listdir(train_cats_dir)))\n",
    "print('검증용 고양이 이미지 전체 개수:', len(os.listdir(validation_cats_dir)))\n",
    "print('테스트용 고양이 이미지 전체 개수:', len(os.listdir(test_cats_dir)))\n",
    "print()\n",
    "print('훈련용 강아지 이미지 전체 개수:', len(os.listdir(train_dogs_dir)))\n",
    "print('검증용 강아지 이미지 전체 개수:', len(os.listdir(validation_dogs_dir)))\n",
    "print('테스트용 강아지 이미지 전체 개수:', len(os.listdir(test_dogs_dir)))\n"
   ]
  },
  {
   "cell_type": "markdown",
   "id": "2478440e",
   "metadata": {},
   "source": [
    "## 1. 소규모 데이터셋을 활용한 컨브넷 만들기\n",
    "- 아무런 규제 없이 기본 성능\n",
    "- 강아지 고양이 각 2000개씩(학습 1000개, 검증 500개, 테스트 500개)"
   ]
  },
  {
   "cell_type": "markdown",
   "id": "478da61a",
   "metadata": {},
   "source": [
    "### 네트워크 구성하기"
   ]
  },
  {
   "cell_type": "code",
   "execution_count": null,
   "id": "a9708a4c",
   "metadata": {},
   "outputs": [],
   "source": [
    "# 네트워크 구성"
   ]
  },
  {
   "cell_type": "code",
   "execution_count": null,
   "id": "e38a8471",
   "metadata": {},
   "outputs": [],
   "source": []
  },
  {
   "cell_type": "markdown",
   "id": "f1f9be85",
   "metadata": {},
   "source": [
    "## 1_2. 과대적합을 줄이기 위한 데이터 증식 후 컨브넷 만들기\n",
    "- 1번 과정의 과대적합을 줄이기 위한 방법인 데이터증식 방법 활용"
   ]
  },
  {
   "cell_type": "code",
   "execution_count": null,
   "id": "ffbb5131",
   "metadata": {},
   "outputs": [],
   "source": []
  },
  {
   "cell_type": "markdown",
   "id": "9c4a534f",
   "metadata": {},
   "source": [
    "## 2. 사전 훈련된 네트워크로 특성 추출 컨브넷 만들기\n",
    "- "
   ]
  },
  {
   "cell_type": "code",
   "execution_count": null,
   "id": "f4a51a05",
   "metadata": {},
   "outputs": [],
   "source": []
  },
  {
   "cell_type": "markdown",
   "id": "ea6e2edf",
   "metadata": {},
   "source": [
    "## 3. 사전 훈련된 네트워크를 세밀 튜닝하여 컨브넷 만들기\n",
    "- "
   ]
  },
  {
   "cell_type": "code",
   "execution_count": null,
   "id": "195081a2",
   "metadata": {},
   "outputs": [],
   "source": []
  },
  {
   "cell_type": "code",
   "execution_count": null,
   "id": "b8a26ce2",
   "metadata": {},
   "outputs": [],
   "source": []
  }
 ],
 "metadata": {
  "kernelspec": {
   "display_name": "Python 3 (ipykernel)",
   "language": "python",
   "name": "python3"
  },
  "language_info": {
   "codemirror_mode": {
    "name": "ipython",
    "version": 3
   },
   "file_extension": ".py",
   "mimetype": "text/x-python",
   "name": "python",
   "nbconvert_exporter": "python",
   "pygments_lexer": "ipython3",
   "version": "3.8.13"
  },
  "toc": {
   "base_numbering": 1,
   "nav_menu": {},
   "number_sections": true,
   "sideBar": true,
   "skip_h1_title": false,
   "title_cell": "Table of Contents",
   "title_sidebar": "Contents",
   "toc_cell": false,
   "toc_position": {},
   "toc_section_display": true,
   "toc_window_display": false
  }
 },
 "nbformat": 4,
 "nbformat_minor": 5
}
